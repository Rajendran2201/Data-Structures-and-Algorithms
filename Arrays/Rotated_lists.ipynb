{
  "nbformat": 4,
  "nbformat_minor": 0,
  "metadata": {
    "colab": {
      "provenance": []
    },
    "kernelspec": {
      "name": "python3",
      "display_name": "Python 3"
    },
    "language_info": {
      "name": "python"
    }
  },
  "cells": [
    {
      "cell_type": "markdown",
      "source": [
        "# **Problem - Rotated Lists**"
      ],
      "metadata": {
        "id": "pypqPCvDqCce"
      }
    },
    {
      "cell_type": "markdown",
      "source": [
        "You are given a list of numbers, obtained by rotating a sorted list an unknown number of times. Write a function to determine the minimum number of times the original sorted list was rotated to obtain the given list. Your function should have the worst-case complexity of ```O(log N)```, where ```N``` is the length of the list. You can assume that all the numbers in the list are unique.\n",
        "\n",
        "Example : The list ```[5, 6, 9, 0, 2, 3, 4]``` was obtained by rotating the sorted list ```[0, 2, 3, 4, 5, 6, 9]``` 3 times\n",
        "\n",
        "\n",
        "we define \"rotating a list\" as removing the last element of the list and adding it before the first element."
      ],
      "metadata": {
        "id": "S3qqHS8UqHnO"
      }
    },
    {
      "cell_type": "code",
      "execution_count": 1,
      "metadata": {
        "id": "U7Fp5LUYp-_L"
      },
      "outputs": [],
      "source": [
        "def count_rotations(nums) :\n",
        "  pass"
      ]
    },
    {
      "cell_type": "markdown",
      "source": [
        "Input : nums (list of numbers)\n",
        "\n",
        "Output : n (Number of ties the list was rotated)\n",
        "\n",
        "Constraints : Time Complexity - O(log N)"
      ],
      "metadata": {
        "id": "VMfZ1y-hskJU"
      }
    },
    {
      "cell_type": "code",
      "source": [
        "   # let the target be the middle element\n",
        "    # write two functions\n",
        "        # one will look into the left sub-array\n",
        "        # two will look into the right sub-array\n",
        "    # the function will check if if there is any mismatch in the order of elements\n",
        "    # condition : if there left most element is greater than the right most element then return the index of the left most element\n"
      ],
      "metadata": {
        "id": "vusaj3QLvC4J"
      },
      "execution_count": null,
      "outputs": []
    },
    {
      "cell_type": "code",
      "source": [
        "def count_rotations(lo, hi, nums):\n",
        "    if lo > hi:\n",
        "        return 0\n",
        "\n",
        "    mid = (lo + hi) // 2\n",
        "    pivot = nums[mid]\n",
        "\n",
        "    if mid > 0 and pivot < nums[mid - 1]:\n",
        "        return mid\n",
        "    elif pivot > nums[hi]:\n",
        "        return count_rotations(mid + 1, hi, nums)\n",
        "    else:\n",
        "        return count_rotations(lo, mid - 1, nums)"
      ],
      "metadata": {
        "id": "dKtnRg-RsdSw"
      },
      "execution_count": 2,
      "outputs": []
    },
    {
      "cell_type": "code",
      "source": [
        "nums = [5, 6,7, 8, 9, 0, 2, 3, 4]\n",
        "n = count_rotations( 0, len(nums)-1,nums)\n",
        "print(n)"
      ],
      "metadata": {
        "colab": {
          "base_uri": "https://localhost:8080/"
        },
        "id": "dOxaSH5evICq",
        "outputId": "1a3a4cd9-786a-43c1-dcd2-9f5158bc1d8b"
      },
      "execution_count": 3,
      "outputs": [
        {
          "output_type": "stream",
          "name": "stdout",
          "text": [
            "5\n"
          ]
        }
      ]
    },
    {
      "cell_type": "code",
      "source": [
        "# Test cases\n",
        "test_cases = [\n",
        "    {'nums': [5, 6, 8, 9, 0, 2, 3, 4], 'expected_output': 4},\n",
        "    {'nums': [0, 1, 2, 3, 4, 5], 'expected_output': 0},\n",
        "    {'nums': [1, 2, 3, 4, 5, 6], 'expected_output': 0},\n",
        "    {'nums': [1], 'expected_output': 0},\n",
        "    {'nums': [10, 11, 13, 15, 20, 1, 2, 5, 7], 'expected_output': 5}\n",
        "]\n",
        "\n",
        "for case in test_cases:\n",
        "    expected_output = count_rotations(0, len(case['nums']) - 1, case['nums'])\n",
        "    print(f\"Expected output: {case['expected_output']}\")\n",
        "    print(f\"Returned output: {expected_output}\")\n",
        "    print(f\"Test Result: {expected_output == case['expected_output']}\")\n",
        "    print(\"---\")"
      ],
      "metadata": {
        "colab": {
          "base_uri": "https://localhost:8080/"
        },
        "id": "lcA88WiPvKgv",
        "outputId": "af7995b4-8766-4644-ae92-ceb2b9451e05"
      },
      "execution_count": 4,
      "outputs": [
        {
          "output_type": "stream",
          "name": "stdout",
          "text": [
            "Expected output: 4\n",
            "Returned output: 4\n",
            "Test Result: True\n",
            "---\n",
            "Expected output: 0\n",
            "Returned output: 0\n",
            "Test Result: True\n",
            "---\n",
            "Expected output: 0\n",
            "Returned output: 0\n",
            "Test Result: True\n",
            "---\n",
            "Expected output: 0\n",
            "Returned output: 0\n",
            "Test Result: True\n",
            "---\n",
            "Expected output: 5\n",
            "Returned output: 5\n",
            "Test Result: True\n",
            "---\n"
          ]
        }
      ]
    },
    {
      "cell_type": "code",
      "source": [],
      "metadata": {
        "id": "dU_C1pkdvaYE"
      },
      "execution_count": null,
      "outputs": []
    }
  ]
}