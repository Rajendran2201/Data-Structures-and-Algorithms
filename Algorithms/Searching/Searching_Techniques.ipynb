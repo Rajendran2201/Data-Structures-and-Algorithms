{
  "nbformat": 4,
  "nbformat_minor": 0,
  "metadata": {
    "colab": {
      "provenance": []
    },
    "kernelspec": {
      "name": "python3",
      "display_name": "Python 3"
    },
    "language_info": {
      "name": "python"
    }
  },
  "cells": [
    {
      "cell_type": "markdown",
      "source": [
        "# **Searching Techniques**"
      ],
      "metadata": {
        "id": "uS57hEqUnL9d"
      }
    },
    {
      "cell_type": "markdown",
      "source": [
        "**Problem 1 :** Alice has some cards with numbers written on them. She arranges the cards in decreasing order, and lays them out face down in a sequence on a table. She challenges Bob to pick out the card containing a given number by turning over as few cards as possible. Write a function to help bob locate the card."
      ],
      "metadata": {
        "id": "VgefINYtnQgA"
      }
    },
    {
      "cell_type": "markdown",
      "source": [
        "Note : This is basically Binary Search"
      ],
      "metadata": {
        "id": "jL-2JSc4nnQb"
      }
    },
    {
      "cell_type": "markdown",
      "source": [
        "In this case, we can represent the sequence of cards as a list of numbers. Turning over a specific card is equivalent to accessing the value of the number at the corressponding position in the list."
      ],
      "metadata": {
        "id": "JadmR0Qoyd91"
      }
    },
    {
      "cell_type": "markdown",
      "source": [
        "[ 13, 11, 12, 7 4, 3, 1, 0 ]"
      ],
      "metadata": {
        "id": "CmNzmY0dyoYv"
      }
    },
    {
      "cell_type": "markdown",
      "source": [
        "Problem : We need to write a program  to find the position of a given number in a list of numbers arranged in decreasing order. We also need to minimize the number of times we access elements from the list."
      ],
      "metadata": {
        "id": "yTG99LxJyv5u"
      }
    },
    {
      "cell_type": "markdown",
      "source": [
        "### Step -1 : Specify the inputs and outputs"
      ],
      "metadata": {
        "id": "QzxTczY80LjN"
      }
    },
    {
      "cell_type": "markdown",
      "source": [
        "**Input**\n",
        "\n",
        "1. ```cards```: A list of numbers sorted in decreasing order\n",
        "\n",
        "\n",
        "\n",
        "\n",
        "2. ```query``` : A number whose position in the array is to be determined\n",
        "\n",
        "**Output**\n",
        "\n",
        "3. ```position```: The position of ```query``` in the list ```cards```\n",
        "\n",
        "\n",
        "\n",
        "\n",
        "\n",
        "\n"
      ],
      "metadata": {
        "id": "QJ8jv2Cdy9qb"
      }
    },
    {
      "cell_type": "markdown",
      "source": [
        "Based on the above, we can now create the signature of our function"
      ],
      "metadata": {
        "id": "ppP8gMYbzz4s"
      }
    },
    {
      "cell_type": "code",
      "execution_count": 90,
      "metadata": {
        "id": "q4fCaCM3mKMw"
      },
      "outputs": [],
      "source": [
        "def locate_card(cards, query):\n",
        "  pass"
      ]
    },
    {
      "cell_type": "markdown",
      "source": [
        "### Step -2 : Cover all edge cases"
      ],
      "metadata": {
        "id": "6Dz5Fq5W0Sgz"
      }
    },
    {
      "cell_type": "markdown",
      "source": [
        "try many test cases"
      ],
      "metadata": {
        "id": "cYWprehB0WP4"
      }
    },
    {
      "cell_type": "code",
      "source": [
        "cards = [13, 11, 10, 7, 4, 3, 1, 0]\n",
        "query = 7\n",
        "output = 3"
      ],
      "metadata": {
        "id": "23EECZTLz9az"
      },
      "execution_count": 16,
      "outputs": []
    },
    {
      "cell_type": "code",
      "source": [
        "result = locate_card(cards,query)\n",
        "print(result)"
      ],
      "metadata": {
        "id": "1WUvmIEqKFCa"
      },
      "execution_count": null,
      "outputs": []
    },
    {
      "cell_type": "code",
      "source": [
        "result == output"
      ],
      "metadata": {
        "id": "fHtCSrpnKJI6"
      },
      "execution_count": null,
      "outputs": []
    },
    {
      "cell_type": "markdown",
      "source": [
        "As of now, the function ism't implemented. But this showcases the skeleton of our problem statement."
      ],
      "metadata": {
        "id": "tVHwDwRS0uVg"
      }
    },
    {
      "cell_type": "code",
      "source": [
        "test = {\n",
        "    'input' : {\n",
        "        'cards' : [13, 11, 10, 7, 4, 3, 1, 0],\n",
        "        'query' : 7\n",
        "    },\n",
        "    'output' : 3\n",
        "}"
      ],
      "metadata": {
        "id": "tgE-EbWA004c"
      },
      "execution_count": 91,
      "outputs": []
    },
    {
      "cell_type": "code",
      "source": [
        "locate_card(test['input']['cards'],test['input']['query']) == test['output']"
      ],
      "metadata": {
        "colab": {
          "base_uri": "https://localhost:8080/"
        },
        "id": "LKz-WjfS1LY5",
        "outputId": "eb8c2716-1c8e-4940-9a9e-d40292da3237"
      },
      "execution_count": 92,
      "outputs": [
        {
          "output_type": "execute_result",
          "data": {
            "text/plain": [
              "False"
            ]
          },
          "metadata": {},
          "execution_count": 92
        }
      ]
    },
    {
      "cell_type": "markdown",
      "source": [
        "This can be simplified as follows :"
      ],
      "metadata": {
        "id": "8gd0fsrE1fKg"
      }
    },
    {
      "cell_type": "code",
      "source": [
        "locate_card(**test['input']) == test['output']\n"
      ],
      "metadata": {
        "colab": {
          "base_uri": "https://localhost:8080/"
        },
        "id": "wWD6S8Dr1g8Z",
        "outputId": "31afa496-e23b-4aeb-9c7c-b1750f574ea7"
      },
      "execution_count": 93,
      "outputs": [
        {
          "output_type": "execute_result",
          "data": {
            "text/plain": [
              "False"
            ]
          },
          "metadata": {},
          "execution_count": 93
        }
      ]
    },
    {
      "cell_type": "markdown",
      "source": [
        "Our function should be able to handle any set of valid inputs we pass into it. Here's a list of some possible variation we might encounter :\n",
        "1. The number ```query``` occurs somewhere in the middle of the list ```cards```\n",
        "2. ```query``` is the first eleemnt in ```cards```\n",
        "3. ```query``` is the last element  in ```cards```\n",
        "4. The list ```cards``` contains just one element, which is ```query```\n",
        "5. The list ```cards``` does not contain number ```query```\n",
        "6. The list ```cards``` is empty\n",
        "7. The list ```cards``` contains repeating numbers\n",
        "8. The number ```query``` occcurs at more than one position in ```cards```\n",
        "9. (can think of more variations !)\n",
        "\n",
        "\n",
        "\n",
        "> **Edge Cases**: It's likely that you didn't think of all of the above cases when you read the problem for the first time. Some of these (like the empty array or ```query``` not occurring in ```cards```) are called *edge cases*, as they represent rare or extreme examples.\n",
        "\n"
      ],
      "metadata": {
        "id": "kCuyK4Mz19yZ"
      }
    },
    {
      "cell_type": "code",
      "source": [
        "tests = []"
      ],
      "metadata": {
        "id": "j8hMoRIc1pOG"
      },
      "execution_count": 94,
      "outputs": []
    },
    {
      "cell_type": "code",
      "source": [
        "# query occurs in the middle\n",
        "\n",
        "tests.append(test)\n",
        "\n",
        "tests.append({\n",
        "    'input' : {\n",
        "        'cards' : [13, 11, 10, 7, 4, 3, 1, 0],\n",
        "        'query' : 1\n",
        "    },\n",
        "\n",
        "    'output' : 6\n",
        "})"
      ],
      "metadata": {
        "id": "Zn0zO8wr3Qag"
      },
      "execution_count": 95,
      "outputs": []
    },
    {
      "cell_type": "code",
      "source": [
        "# query in the first element\n",
        "\n",
        "tests.append({\n",
        "    'input' : {\n",
        "        'cards' : [13, 11, 10, 7, 4, 3, 1, 0],\n",
        "        'query' : 13\n",
        "    },\n",
        "\n",
        "    'output' : 0\n",
        "})"
      ],
      "metadata": {
        "id": "vMj9l2FM3hal"
      },
      "execution_count": 96,
      "outputs": []
    },
    {
      "cell_type": "code",
      "source": [
        "# query in the last element\n",
        "\n",
        "tests.append({\n",
        "    'input' : {\n",
        "        'cards' : [13, 11, 10, 7, 4, 3, 1, 0],\n",
        "        'query' : 0\n",
        "    },\n",
        "\n",
        "    'output' : 7\n",
        "})"
      ],
      "metadata": {
        "id": "zgBGvvSP3nk8"
      },
      "execution_count": 97,
      "outputs": []
    },
    {
      "cell_type": "code",
      "source": [
        "# cards containing just one element , query\n",
        "\n",
        "tests.append({\n",
        "    'input' : {\n",
        "        'cards' : [9],\n",
        "        'query' : 9\n",
        "    },\n",
        "\n",
        "    'output' : 0\n",
        "})"
      ],
      "metadata": {
        "id": "6hKhwx8P3ttq"
      },
      "execution_count": 98,
      "outputs": []
    },
    {
      "cell_type": "markdown",
      "source": [
        "The problem statement doesn't specify what to do if the list ```cards``` does not contain the number ```query```\n",
        "\n",
        "1. Read the problem statement again, carefully\n",
        "2. Look through the examples provided with the solution\n",
        "3. Ask the interviewer / platform for a clarification\n",
        "4. Make a reasonable assumption, state it and move forward\n",
        "\n",
        "We will assume that our function will return -1 in case ```cards``` does not contain ```query```"
      ],
      "metadata": {
        "id": "AQdskjx135ua"
      }
    },
    {
      "cell_type": "code",
      "source": [
        "# cards containing one element, but not query\n",
        "\n",
        "tests.append({\n",
        "    'input' : {\n",
        "        'cards' : [13],\n",
        "        'query' : 1\n",
        "    },\n",
        "\n",
        "    'output' : -1\n",
        "})"
      ],
      "metadata": {
        "id": "nMkve2mT31df"
      },
      "execution_count": 99,
      "outputs": []
    },
    {
      "cell_type": "code",
      "source": [
        "# cards not containing query\n",
        "\n",
        "tests.append({\n",
        "    'input' : {\n",
        "        'cards' : [13, 11, 10, 7, 4, 3, 1, 0],\n",
        "        'query' : 19\n",
        "    },\n",
        "\n",
        "    'output' : -1\n",
        "})"
      ],
      "metadata": {
        "id": "jqn0n9BV4dJi"
      },
      "execution_count": 100,
      "outputs": []
    },
    {
      "cell_type": "code",
      "source": [
        "# cards is empty\n",
        "\n",
        "tests.append({\n",
        "    'input' : {\n",
        "        'cards' :[],\n",
        "        'query' : 1\n",
        "    },\n",
        "\n",
        "    'output' : -1\n",
        "})"
      ],
      "metadata": {
        "id": "en-q1NgP4iTH"
      },
      "execution_count": 101,
      "outputs": []
    },
    {
      "cell_type": "code",
      "source": [
        "# numbers can repeat in cards\n",
        "\n",
        "tests.append({\n",
        "    'input' : {\n",
        "        'cards' : [13, 11, 10, 13, 7, 4, 13, 1, 0],\n",
        "        'query' : 1\n",
        "    },\n",
        "\n",
        "    'output' : 7\n",
        "})"
      ],
      "metadata": {
        "id": "aadyTz1L42Ul"
      },
      "execution_count": 102,
      "outputs": []
    },
    {
      "cell_type": "markdown",
      "source": [
        "In the case where ```query``` occurs multiple times in ```cards```, we'll expect out function to return the first occurrence of the ```query```."
      ],
      "metadata": {
        "id": "RHodQx-S5Jqp"
      }
    },
    {
      "cell_type": "code",
      "source": [
        "# query occurs multiple times\n",
        "\n",
        "tests.append({\n",
        "    'input' : {\n",
        "        'cards' : [13, 11, 10, 7, 4, 3, 1, 1, 1, 0],\n",
        "        'query' : 1\n",
        "    },\n",
        "\n",
        "    'output' : 6\n",
        "})"
      ],
      "metadata": {
        "id": "IDSvIina5HF2"
      },
      "execution_count": 103,
      "outputs": []
    },
    {
      "cell_type": "markdown",
      "source": [
        "Let's look at the full set of test cases we have created so far."
      ],
      "metadata": {
        "id": "VC_wRFDy5cus"
      }
    },
    {
      "cell_type": "code",
      "source": [
        "tests"
      ],
      "metadata": {
        "colab": {
          "base_uri": "https://localhost:8080/"
        },
        "id": "6rtEw63l5ZBz",
        "outputId": "a261cd62-20a4-4199-b0da-70e9237e5f18"
      },
      "execution_count": 104,
      "outputs": [
        {
          "output_type": "execute_result",
          "data": {
            "text/plain": [
              "[{'input': {'cards': [13, 11, 10, 7, 4, 3, 1, 0], 'query': 7}, 'output': 3},\n",
              " {'input': {'cards': [13, 11, 10, 7, 4, 3, 1, 0], 'query': 1}, 'output': 6},\n",
              " {'input': {'cards': [13, 11, 10, 7, 4, 3, 1, 0], 'query': 13}, 'output': 0},\n",
              " {'input': {'cards': [13, 11, 10, 7, 4, 3, 1, 0], 'query': 0}, 'output': 7},\n",
              " {'input': {'cards': [9], 'query': 9}, 'output': 0},\n",
              " {'input': {'cards': [13], 'query': 1}, 'output': -1},\n",
              " {'input': {'cards': [13, 11, 10, 7, 4, 3, 1, 0], 'query': 19}, 'output': -1},\n",
              " {'input': {'cards': [], 'query': 1}, 'output': -1},\n",
              " {'input': {'cards': [13, 11, 10, 13, 7, 4, 13, 1, 0], 'query': 1},\n",
              "  'output': 7},\n",
              " {'input': {'cards': [13, 11, 10, 7, 4, 3, 1, 1, 1, 0], 'query': 1},\n",
              "  'output': 6}]"
            ]
          },
          "metadata": {},
          "execution_count": 104
        }
      ]
    },
    {
      "cell_type": "markdown",
      "source": [
        "### Step - 3 : Come up with a correct solution for the problem. State it in plain English"
      ],
      "metadata": {
        "id": "h2AwArvG5wps"
      }
    },
    {
      "cell_type": "markdown",
      "source": [
        "Our first goal should always be to come up with a correct solution to the problem, which may necessarily be the most efficient solution. The simplest or most obvious solution to a problem which generally involves checking all possible answers is called as *brute force solution*."
      ],
      "metadata": {
        "id": "ZVtO9_SA6FTQ"
      }
    },
    {
      "cell_type": "markdown",
      "source": [
        "Brute Force Solution :\n",
        "\n",
        "  1. Create a variable ```position``` with the value 0\n",
        "  2. Check whether the number at index ```position``` in ```cards``` equals ```query```\n",
        "  3. If it does, ```position``` is the answer and can be returned from the function.\n",
        "  4. If not, increment the value of ```position``` by 1, and repeat steps 2 to 5 until we reach the last position.\n",
        "  5. If the number was not found, return -1"
      ],
      "metadata": {
        "id": "M9sQmcmz6ZeA"
      }
    },
    {
      "cell_type": "markdown",
      "source": [
        "\n",
        "\n",
        "> **Linear Search Algorithm** : The linear search algorithm involves searching throught a list in a inear fashion i.e : element after element\n",
        "\n"
      ],
      "metadata": {
        "id": "R_qctg4g66xK"
      }
    },
    {
      "cell_type": "markdown",
      "source": [
        "### Step - 4 : Implement the solution and test it using example inputs. Fix bugs, if any."
      ],
      "metadata": {
        "id": "4TYItz5y7oR6"
      }
    },
    {
      "cell_type": "code",
      "source": [
        "def locate_card(cards, query):\n",
        "  # create a variable position with the value 0\n",
        "  position = 0\n",
        "\n",
        "  # set up a loop for repetition\n",
        "  while True:\n",
        "\n",
        "  # check if the element at the current position matches the query\n",
        "    if cards[position] == query:\n",
        "       # If answer found, return and exit\n",
        "      return position\n",
        "\n",
        "  # If not, increment the position\n",
        "    position += 1\n",
        "\n",
        "  # check if we have reached the end of the array\n",
        "  # number not found, return -1\n",
        "  return -1"
      ],
      "metadata": {
        "id": "YdJLOc385hFC"
      },
      "execution_count": 31,
      "outputs": []
    },
    {
      "cell_type": "code",
      "source": [
        "result = locate_card(**test['input'])\n",
        "print(\"expected output : \",output)\n",
        "print(\"returned output : \",result)\n",
        "print(result == output)"
      ],
      "metadata": {
        "colab": {
          "base_uri": "https://localhost:8080/"
        },
        "id": "cdVNONt18gEM",
        "outputId": "9a2966cf-7cb1-4671-e1e9-a46cbdbd6495"
      },
      "execution_count": 32,
      "outputs": [
        {
          "output_type": "stream",
          "name": "stdout",
          "text": [
            "expected output :  3\n",
            "returned output :  3\n",
            "True\n"
          ]
        }
      ]
    },
    {
      "cell_type": "code",
      "source": [
        "for test in tests :\n",
        "  result = locate_card(**test['input'])\n",
        "  print(test['input'])\n",
        "  print(\"expected output : \",test['output'])\n",
        "  print(\"returned output : \",result)\n",
        "  print(result == test['output'])"
      ],
      "metadata": {
        "colab": {
          "base_uri": "https://localhost:8080/"
        },
        "id": "u2A82AYr8qVy",
        "outputId": "26e0f0d9-2744-41b0-e760-3a0f0b9daed5"
      },
      "execution_count": 89,
      "outputs": [
        {
          "output_type": "stream",
          "name": "stdout",
          "text": [
            "{'cards': [13, 11, 10, 7, 4, 3, 1, 0], 'query': 7}\n",
            "expected output :  3\n",
            "returned output :  3\n",
            "True\n",
            "{'cards': [13, 11, 10, 7, 4, 3, 1, 0], 'query': 1}\n",
            "expected output :  6\n",
            "returned output :  6\n",
            "True\n",
            "{'cards': [13, 11, 10, 7, 4, 3, 1, 0], 'query': 13}\n",
            "expected output :  0\n",
            "returned output :  0\n",
            "True\n",
            "{'cards': [13, 11, 10, 7, 4, 3, 1, 0], 'query': 0}\n",
            "expected output :  7\n",
            "returned output :  7\n",
            "True\n",
            "{'cards': [9], 'query': 9}\n",
            "expected output :  0\n",
            "returned output :  0\n",
            "True\n",
            "{'cards': [13], 'query': 1}\n",
            "expected output :  -1\n",
            "returned output :  -1\n",
            "True\n",
            "{'cards': [13, 11, 10, 7, 4, 3, 1, 0], 'query': 19}\n",
            "expected output :  -1\n",
            "returned output :  -1\n",
            "True\n",
            "{'cards': [], 'query': 1}\n",
            "expected output :  -1\n",
            "returned output :  -1\n",
            "True\n",
            "{'cards': [13, 11, 10, 13, 7, 4, 13, 1, 0], 'query': 1}\n",
            "expected output :  7\n",
            "returned output :  7\n",
            "True\n",
            "{'cards': [13, 1, 11, 10, 1, 7, 4, 3, 1, 0], 'query': 1}\n",
            "expected output :  1\n",
            "returned output :  4\n",
            "False\n",
            "{'cards': [13, 11, 10, 7, 4, 3, 1, 1, 1, 0], 'query': 1}\n",
            "expected output :  1\n",
            "returned output :  6\n",
            "False\n"
          ]
        }
      ]
    },
    {
      "cell_type": "code",
      "source": [
        "# lets optimise the code a bit by adding a condition indtead of an open loop\n",
        "\n",
        "def locate_card(cards, query) :\n",
        "  position = 0\n",
        "  while position < len(cards) :\n",
        "    if cards[position] == query:\n",
        "      return position\n",
        "    position += 1\n",
        "  return -1"
      ],
      "metadata": {
        "id": "HXZjUhSP9LDL"
      },
      "execution_count": 34,
      "outputs": []
    },
    {
      "cell_type": "code",
      "source": [
        "for test in tests :\n",
        "  result = locate_card(**test['input'])\n",
        "  print(test['input'])\n",
        "  print(\"expected output : \",test['output'])\n",
        "  print(\"returned output : \",result)\n",
        "  print(result == test['output'])"
      ],
      "metadata": {
        "colab": {
          "base_uri": "https://localhost:8080/"
        },
        "id": "5m8Btm0z-yQl",
        "outputId": "72042319-fa0c-45bd-c299-8cd6bfa53aee"
      },
      "execution_count": 35,
      "outputs": [
        {
          "output_type": "stream",
          "name": "stdout",
          "text": [
            "{'cards': [13, 11, 10, 7, 4, 3, 1, 0], 'query': 7}\n",
            "expected output :  3\n",
            "returned output :  3\n",
            "True\n",
            "{'cards': [13, 11, 10, 7, 4, 3, 1, 0], 'query': 1}\n",
            "expected output :  6\n",
            "returned output :  6\n",
            "True\n",
            "{'cards': [13, 11, 10, 7, 4, 3, 1, 0], 'query': 13}\n",
            "expected output :  0\n",
            "returned output :  0\n",
            "True\n",
            "{'cards': [13, 11, 10, 7, 4, 3, 1, 0], 'query': 0}\n",
            "expected output :  7\n",
            "returned output :  7\n",
            "True\n",
            "{'cards': [9], 'query': 9}\n",
            "expected output :  0\n",
            "returned output :  0\n",
            "True\n",
            "{'cards': [13], 'query': 1}\n",
            "expected output :  -1\n",
            "returned output :  -1\n",
            "True\n",
            "{'cards': [13, 11, 10, 7, 4, 3, 1, 0], 'query': 19}\n",
            "expected output :  -1\n",
            "returned output :  -1\n",
            "True\n",
            "{'cards': [], 'query': 1}\n",
            "expected output :  -1\n",
            "returned output :  -1\n",
            "True\n",
            "{'cards': [13, 11, 10, 13, 7, 4, 13, 1, 0], 'query': 1}\n",
            "expected output :  7\n",
            "returned output :  7\n",
            "True\n",
            "{'cards': [13, 1, 11, 10, 1, 7, 4, 3, 1, 0], 'query': 1}\n",
            "expected output :  1\n",
            "returned output :  1\n",
            "True\n"
          ]
        }
      ]
    },
    {
      "cell_type": "markdown",
      "source": [
        "### Step - 5. Analyze the algorithm's complexity and identify ineffeciencies, is any."
      ],
      "metadata": {
        "id": "PUelxX-0_0AL"
      }
    },
    {
      "cell_type": "markdown",
      "source": [
        "recall the statement from the original question : \" *Minimize the number of times the card is being turned over* \""
      ],
      "metadata": {
        "id": "tS_5ftPD_77a"
      }
    },
    {
      "cell_type": "markdown",
      "source": [
        "The field of study concerned with finding teh amount of time, space or other resources required to complete the execution of computer programs is called *the analysis of algorithms*. The process of figuring out the best algorithms to solve the given probelm is called as *algorithm desgin* and *optimization*."
      ],
      "metadata": {
        "id": "fZfpceyBASTy"
      }
    },
    {
      "cell_type": "markdown",
      "source": [
        "**Complexity and Big O Notation**\n",
        "\n",
        "\n",
        "\n",
        "> **Complexity** of an algorihtm is a measure of the amount of time and/or space required by an algorithm for an input of a given size. Unless otherwise stated, the term *complexity* always refers to the worst-case complexity\n",
        "\n"
      ],
      "metadata": {
        "id": "LTLeontsArnp"
      }
    },
    {
      "cell_type": "markdown",
      "source": [
        "In case of linear search:\n",
        "\n",
        "1. The time complexity of the algorithm is ```cN``` for some fixed constant ```c``` that depends on the number of operations we perform in eahc iteration and the time taken to execute a statement. Time complexity is sometimes also called the *running time* of the algorithm.\n",
        "2. The space complexity is some constant ```c``` (independent of ```N```), sinxe we just need a single variable ```position``` to iterate through the array, and it occupies a constant space in the computer's memory (RAM).\n",
        "\n",
        "> **Big O Notation** : Worst-case complexity is often expresed using Big O notation. In Big O, we drop fixed constants and lower powers of a variables to capture the trend of relationship between the size of the input and the complexity of the algorithm."
      ],
      "metadata": {
        "id": "TPS7XOyRBF7J"
      }
    },
    {
      "cell_type": "markdown",
      "source": [
        "Thus the time complexity of linear search is **O(N)** and its space complexity is **O(1)**"
      ],
      "metadata": {
        "id": "QKctIHdRCInU"
      }
    },
    {
      "cell_type": "markdown",
      "source": [
        "### Step - 6 : Apply the right technique to over the inefficiency."
      ],
      "metadata": {
        "id": "iRQ2qiUyCd4R"
      }
    },
    {
      "cell_type": "markdown",
      "source": [
        "- We can make use of the fact that the list is sorted.\n",
        "- Each time we can pick the middle card and eliminate the half of the array until we find our ```query```\n",
        "- This technique is called as *Binary Search*"
      ],
      "metadata": {
        "id": "vlm5YbcxC5q_"
      }
    },
    {
      "cell_type": "markdown",
      "source": [
        "Here's how binary search can be applied to our problem 🇰\n",
        "\n",
        "1. Find the middle elemnt of the list\n",
        "2. If it matches queried number, return the middle position as the answer\n",
        "3. If it is less than the qeuried number, then search the first half of the list\n",
        "4. If it is greater than the queried number, then search the second half of the list\n",
        "5. if no more elements remain, return -1"
      ],
      "metadata": {
        "id": "M1JO7vjLDokC"
      }
    },
    {
      "cell_type": "code",
      "source": [
        "# Binary Search Implementation\n",
        "\n",
        "def locate_card(cards, query) :\n",
        "  lo, hi = 0, len(cards) -1\n",
        "\n",
        "  while lo <= hi:\n",
        "    mid = (lo + hi) // 2\n",
        "    mid_number =cards[mid]\n",
        "\n",
        "    print(f\"low : {lo} , high : {hi}, mid : {mid}, mid number : {mid_number}\")\n",
        "\n",
        "    if mid_number == query :\n",
        "      return mid\n",
        "    elif mid_number < query :\n",
        "      hi = mid - 1\n",
        "    else :\n",
        "      lo = mid + 1\n",
        "\n",
        "  return -1"
      ],
      "metadata": {
        "id": "u_zf7Cwi-1gy"
      },
      "execution_count": 36,
      "outputs": []
    },
    {
      "cell_type": "code",
      "source": [
        "for test in tests :\n",
        "  result = locate_card(**test['input'])\n",
        "  print(test['input'])\n",
        "  print(\"expected output : \",test['output'])\n",
        "  print(\"returned output : \",result)\n",
        "  print(result == test['output'])"
      ],
      "metadata": {
        "colab": {
          "base_uri": "https://localhost:8080/"
        },
        "id": "YhpfgHV-E_ft",
        "outputId": "b7915118-e933-4790-987e-212db39416e5"
      },
      "execution_count": 37,
      "outputs": [
        {
          "output_type": "stream",
          "name": "stdout",
          "text": [
            "low : 0 , high : 7, mid : 3, mid number : 7\n",
            "{'cards': [13, 11, 10, 7, 4, 3, 1, 0], 'query': 7}\n",
            "expected output :  3\n",
            "returned output :  3\n",
            "True\n",
            "low : 0 , high : 7, mid : 3, mid number : 7\n",
            "low : 4 , high : 7, mid : 5, mid number : 3\n",
            "low : 6 , high : 7, mid : 6, mid number : 1\n",
            "{'cards': [13, 11, 10, 7, 4, 3, 1, 0], 'query': 1}\n",
            "expected output :  6\n",
            "returned output :  6\n",
            "True\n",
            "low : 0 , high : 7, mid : 3, mid number : 7\n",
            "low : 0 , high : 2, mid : 1, mid number : 11\n",
            "low : 0 , high : 0, mid : 0, mid number : 13\n",
            "{'cards': [13, 11, 10, 7, 4, 3, 1, 0], 'query': 13}\n",
            "expected output :  0\n",
            "returned output :  0\n",
            "True\n",
            "low : 0 , high : 7, mid : 3, mid number : 7\n",
            "low : 4 , high : 7, mid : 5, mid number : 3\n",
            "low : 6 , high : 7, mid : 6, mid number : 1\n",
            "low : 7 , high : 7, mid : 7, mid number : 0\n",
            "{'cards': [13, 11, 10, 7, 4, 3, 1, 0], 'query': 0}\n",
            "expected output :  7\n",
            "returned output :  7\n",
            "True\n",
            "low : 0 , high : 0, mid : 0, mid number : 9\n",
            "{'cards': [9], 'query': 9}\n",
            "expected output :  0\n",
            "returned output :  0\n",
            "True\n",
            "low : 0 , high : 0, mid : 0, mid number : 13\n",
            "{'cards': [13], 'query': 1}\n",
            "expected output :  -1\n",
            "returned output :  -1\n",
            "True\n",
            "low : 0 , high : 7, mid : 3, mid number : 7\n",
            "low : 0 , high : 2, mid : 1, mid number : 11\n",
            "low : 0 , high : 0, mid : 0, mid number : 13\n",
            "{'cards': [13, 11, 10, 7, 4, 3, 1, 0], 'query': 19}\n",
            "expected output :  -1\n",
            "returned output :  -1\n",
            "True\n",
            "{'cards': [], 'query': 1}\n",
            "expected output :  -1\n",
            "returned output :  -1\n",
            "True\n",
            "low : 0 , high : 8, mid : 4, mid number : 7\n",
            "low : 5 , high : 8, mid : 6, mid number : 13\n",
            "low : 7 , high : 8, mid : 7, mid number : 1\n",
            "{'cards': [13, 11, 10, 13, 7, 4, 13, 1, 0], 'query': 1}\n",
            "expected output :  7\n",
            "returned output :  7\n",
            "True\n",
            "low : 0 , high : 9, mid : 4, mid number : 1\n",
            "{'cards': [13, 1, 11, 10, 1, 7, 4, 3, 1, 0], 'query': 1}\n",
            "expected output :  1\n",
            "returned output :  4\n",
            "False\n"
          ]
        }
      ]
    },
    {
      "cell_type": "markdown",
      "source": [
        "we need the index of the first occurrence of the element in case of duplicate elements. So in order to tack this issue, lets rewrite the code"
      ],
      "metadata": {
        "id": "YhUoIpSkGi_1"
      }
    },
    {
      "cell_type": "code",
      "source": [
        "def test_location(cards, query, mid):\n",
        "  mid_number = cards[mid]\n",
        "\n",
        "  if mid_number == query :\n",
        "    if mid - 1 >= 0 and cards[mid - 1] == query:\n",
        "      return 'left'\n",
        "    else :\n",
        "      return 'found'\n",
        "  elif mid_number < query:\n",
        "    return 'left'\n",
        "  return 'right'\n",
        "\n",
        "\n",
        "\n",
        "def locate_card(cards, query) :\n",
        "  lo, hi = 0, len(cards) - 1\n",
        "\n",
        "  while lo <= hi:\n",
        "    mid = (lo + hi) // 2\n",
        "    result = test_location(cards, query, mid)\n",
        "\n",
        "    if result == 'found':\n",
        "      return mid\n",
        "    elif result == 'right' :\n",
        "      lo = mid + 1\n",
        "    elif result == 'left' :\n",
        "      hi = mid - 1\n",
        "\n",
        "\n",
        "  return -1\n",
        "\n"
      ],
      "metadata": {
        "id": "2XhLEElyFJtA"
      },
      "execution_count": 105,
      "outputs": []
    },
    {
      "cell_type": "code",
      "source": [
        "result = locate_card([10,9,8,7,6,5,4,3], 7)\n",
        "print(\"returned output : \",result)"
      ],
      "metadata": {
        "colab": {
          "base_uri": "https://localhost:8080/"
        },
        "id": "XT8QWGJZLl85",
        "outputId": "7c4ec05d-a35d-4404-a3de-0a8d69eec9f3"
      },
      "execution_count": 77,
      "outputs": [
        {
          "output_type": "stream",
          "name": "stdout",
          "text": [
            "returned output :  3\n"
          ]
        }
      ]
    },
    {
      "cell_type": "code",
      "source": [
        "for test in tests :\n",
        "  result = locate_card(**test['input'])\n",
        "  print(test['input'])\n",
        "  print(\"expected output : \",test['output'])\n",
        "  print(\"returned output : \",result)\n",
        "  print(result == test['output'])"
      ],
      "metadata": {
        "colab": {
          "base_uri": "https://localhost:8080/"
        },
        "id": "PyksGoahNuY2",
        "outputId": "c73614dd-59f7-4baf-d76c-9fa17f71ae2d"
      },
      "execution_count": 106,
      "outputs": [
        {
          "output_type": "stream",
          "name": "stdout",
          "text": [
            "{'cards': [13, 11, 10, 7, 4, 3, 1, 0], 'query': 7}\n",
            "expected output :  3\n",
            "returned output :  3\n",
            "True\n",
            "{'cards': [13, 11, 10, 7, 4, 3, 1, 0], 'query': 1}\n",
            "expected output :  6\n",
            "returned output :  6\n",
            "True\n",
            "{'cards': [13, 11, 10, 7, 4, 3, 1, 0], 'query': 13}\n",
            "expected output :  0\n",
            "returned output :  0\n",
            "True\n",
            "{'cards': [13, 11, 10, 7, 4, 3, 1, 0], 'query': 0}\n",
            "expected output :  7\n",
            "returned output :  7\n",
            "True\n",
            "{'cards': [9], 'query': 9}\n",
            "expected output :  0\n",
            "returned output :  0\n",
            "True\n",
            "{'cards': [13], 'query': 1}\n",
            "expected output :  -1\n",
            "returned output :  -1\n",
            "True\n",
            "{'cards': [13, 11, 10, 7, 4, 3, 1, 0], 'query': 19}\n",
            "expected output :  -1\n",
            "returned output :  -1\n",
            "True\n",
            "{'cards': [], 'query': 1}\n",
            "expected output :  -1\n",
            "returned output :  -1\n",
            "True\n",
            "{'cards': [13, 11, 10, 13, 7, 4, 13, 1, 0], 'query': 1}\n",
            "expected output :  7\n",
            "returned output :  7\n",
            "True\n",
            "{'cards': [13, 11, 10, 7, 4, 3, 1, 1, 1, 0], 'query': 1}\n",
            "expected output :  6\n",
            "returned output :  6\n",
            "True\n"
          ]
        }
      ]
    },
    {
      "cell_type": "markdown",
      "source": [
        "### Step - 7 : Analyse the algorithm's complexity and identify ineffeciencies, if any."
      ],
      "metadata": {
        "id": "e8qLb2Ejbz-B"
      }
    },
    {
      "cell_type": "markdown",
      "source": [
        "Initial length - ```N```\n",
        "\n",
        "Iteration 1 - ```N/2```\n",
        "\n",
        "Iteration 2 - ```N/4``` i.e ```N/2^2```\n",
        "\n",
        "Iteration 3 - ```N/8``` i.e ```N/2^3```\n",
        "\n",
        "...\n",
        "\n",
        "Iteration k - ```N/2^k```\n",
        "\n",
        "\n",
        "Since the final length of the array is 1, we can find the\n",
        "\n",
        "```N/2^k = 1```\n",
        "\n",
        "Rearranging the terms, we get\n",
        "\n",
        "```N = 2^k```\n",
        "\n",
        "Taking logarithm on both sides,\n",
        "\n",
        "```k = log N```\n",
        "\n",
        "\n",
        "Time Complexity : **O(log N)**\n",
        "Space Complexity : **O(1)**"
      ],
      "metadata": {
        "id": "IEpFHsx5cdwL"
      }
    },
    {
      "cell_type": "code",
      "source": [],
      "metadata": {
        "id": "eh1HBxsxRA5C"
      },
      "execution_count": null,
      "outputs": []
    },
    {
      "cell_type": "markdown",
      "source": [
        "# **Binary Search vs. Linear Search**"
      ],
      "metadata": {
        "id": "KeXDwyMUdl6U"
      }
    },
    {
      "cell_type": "code",
      "source": [
        "def locate_card_linear(cards, query):\n",
        "  position = 0\n",
        "  while position < len(cards):\n",
        "    if cards[position] == query :\n",
        "      return position\n",
        "    position += 1\n",
        "  return -1"
      ],
      "metadata": {
        "id": "ecXMxVUSdocA"
      },
      "execution_count": 107,
      "outputs": []
    },
    {
      "cell_type": "code",
      "source": [
        "large_test = {\n",
        "    'input' : {\n",
        "        'cards' : list(range(10000000,0,-1)),\n",
        "        'query' : 2\n",
        "    },\n",
        "    'output' : 9999998\n",
        "}"
      ],
      "metadata": {
        "id": "aKACRt_Sd6ay"
      },
      "execution_count": 126,
      "outputs": []
    },
    {
      "cell_type": "code",
      "source": [
        "import time\n",
        "\n",
        "# Measure execution time\n",
        "start_time = time.time()\n",
        "expected_output = locate_card_linear(large_test['input']['cards'], large_test['input']['query'])\n",
        "end_time = time.time()\n",
        "print(f\"Expected output: {large_test['output']}\")\n",
        "print(f\"Returned output: {expected_output}\")\n",
        "print(f\"Test Result: {expected_output == large_test['output']}\")\n",
        "print(f\"Execution Time: {end_time - start_time} seconds\")"
      ],
      "metadata": {
        "colab": {
          "base_uri": "https://localhost:8080/"
        },
        "id": "4BSEJWu0eL2X",
        "outputId": "25d60be4-92b3-47b2-efa3-a9cdb74f06b7"
      },
      "execution_count": 127,
      "outputs": [
        {
          "output_type": "stream",
          "name": "stdout",
          "text": [
            "Expected output: 9999998\n",
            "Returned output: 9999998\n",
            "Test Result: True\n",
            "Execution Time: 1.7963736057281494 seconds\n"
          ]
        }
      ]
    },
    {
      "cell_type": "code",
      "source": [
        "# Binary Search version\n",
        "\n",
        "start_time = time.time()\n",
        "expected_output = locate_card(large_test['input']['cards'], large_test['input']['query'])\n",
        "end_time = time.time()\n",
        "print(f\"Expected output: {large_test['output']}\")\n",
        "print(f\"Returned output: {expected_output}\")\n",
        "print(f\"Test Result: {expected_output == large_test['output']}\")\n",
        "print(f\"Execution Time: {end_time - start_time} seconds\")"
      ],
      "metadata": {
        "colab": {
          "base_uri": "https://localhost:8080/"
        },
        "id": "CxsLHwoXfI1M",
        "outputId": "f24f0240-6f83-465b-fb06-91b945c146f7"
      },
      "execution_count": 132,
      "outputs": [
        {
          "output_type": "stream",
          "name": "stdout",
          "text": [
            "Expected output: 9999998\n",
            "Returned output: 9999998\n",
            "Test Result: True\n",
            "Execution Time: 0.00011086463928222656 seconds\n"
          ]
        }
      ]
    },
    {
      "cell_type": "markdown",
      "source": [
        "The binary search version is almost 15,500 times faster than the linear search version."
      ],
      "metadata": {
        "id": "txjA8fjMgS2l"
      }
    },
    {
      "cell_type": "markdown",
      "source": [
        "# Generic Binary Search"
      ],
      "metadata": {
        "id": "qhs0KRyMg2iv"
      }
    },
    {
      "cell_type": "code",
      "source": [
        "def binary_search(lo, hi, condition):\n",
        "  while lo <= hi:\n",
        "    mid = (lo + hi) // 2\n",
        "    result = condition(mid)\n",
        "    if result == 'found':\n",
        "      return mid\n",
        "    elif result == 'left':\n",
        "      hi = mid - 1\n",
        "    else :\n",
        "      lo = mid + 1\n",
        "  return -1"
      ],
      "metadata": {
        "id": "RRI3s9ptg5dM"
      },
      "execution_count": 133,
      "outputs": []
    },
    {
      "cell_type": "code",
      "source": [
        "def locate_card(cards, query) :\n",
        "  def condition(mid) :\n",
        "    if cards[mid] == query :\n",
        "      if mid > 0 and cards[mid - 1] == query:\n",
        "        return 'left'\n",
        "      else :\n",
        "        return 'found'\n",
        "    elif cards[mid] < query :\n",
        "      return 'left'\n",
        "    else :\n",
        "      return 'right'\n",
        "  return binary_search(0, len(cards) - 1, condition)"
      ],
      "metadata": {
        "id": "hwgonT9Qha4R"
      },
      "execution_count": 134,
      "outputs": []
    },
    {
      "cell_type": "markdown",
      "source": [
        "> **Question** : Given an array of integers ```nums``` sorted in ascending order, find the starting ending position of a given number"
      ],
      "metadata": {
        "id": "MU2Yt__diIQy"
      }
    },
    {
      "cell_type": "code",
      "source": [
        "def first_position(nums,target) :\n",
        "  def condition(mid):\n",
        "    if nums[mid] == target:\n",
        "      if mid > 0 and nums[mid-1] == target:\n",
        "        return 'left'\n",
        "      return 'found'\n",
        "    elif nums[mid] < target:\n",
        "      return 'right'\n",
        "    else :\n",
        "      return 'left'\n",
        "  return binary_search(0, len(nums)-1, condition)\n",
        "\n",
        "def last_position(nums, target) :\n",
        "  def condition(mid):\n",
        "    if nums[mid] == target :\n",
        "      if mid < len(nums)-1 and nums[mid+1] == target :\n",
        "        return 'right'\n",
        "      return 'found'\n",
        "    elif nums[mid] < target :\n",
        "      return 'right'\n",
        "    else :\n",
        "      return 'left'\n",
        "  return binary_search(0, len(nums)-1, condition)\n",
        "\n",
        "def first_and_last_position(nums,target):\n",
        "  return first_position(nums,target), last_position(nums,target)"
      ],
      "metadata": {
        "id": "6us0vRViiAGE"
      },
      "execution_count": 135,
      "outputs": []
    },
    {
      "cell_type": "markdown",
      "source": [
        "This is a problem from leetcode : https://leetcode.com/problems/find-first-and-last-position-of-element-in-sorted-array/"
      ],
      "metadata": {
        "id": "_dzOSjCSkmJu"
      }
    }
  ]
}