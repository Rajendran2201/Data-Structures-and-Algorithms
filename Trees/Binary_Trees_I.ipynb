{
  "nbformat": 4,
  "nbformat_minor": 0,
  "metadata": {
    "colab": {
      "provenance": []
    },
    "kernelspec": {
      "name": "python3",
      "display_name": "Python 3"
    },
    "language_info": {
      "name": "python"
    }
  },
  "cells": [
    {
      "cell_type": "markdown",
      "source": [
        "# **Binary Trees**"
      ],
      "metadata": {
        "id": "j04c6ONR8CGK"
      }
    },
    {
      "cell_type": "markdown",
      "source": [
        "**Problem** :\n",
        "As a senior backend engineer, you are tasked with developing a fast in-memory data structure to manage profile information (username, name and email) for 100 million users. it should allow the following operations to be perfomred efficiently:\n",
        "\n",
        "1. **Insert** the profile information for a new user\n",
        "2. **Find** the profile information of a user, given their username\n",
        "3. **Update** the profile information of a user, given their username\n",
        "4. **List** the users of the platform, sorted by username"
      ],
      "metadata": {
        "id": "ikc1JXQG8QBm"
      }
    },
    {
      "cell_type": "markdown",
      "source": [
        "## **The Method**\n",
        "\n",
        "Here's a systematic strategy we'll aplly for solving problems,\n",
        "\n",
        "\n",
        "**Problem**\n",
        "\n",
        "> We need to create a data structure which can store 100 million records and perform insertion, search, update and list operations efficiently."
      ],
      "metadata": {
        "id": "aaAt0GJa84G-"
      }
    },
    {
      "cell_type": "markdown",
      "source": [
        "**Input**\n",
        "The key inputs to our data structure are user profiles, which contain the username, name and email.\n",
        "\n",
        "A python class would be a great way to represent the information for a user. A class is ablueprint for creating objects. Everything in python is an object belonging to some class. Here's the simple possible class in python, with nothing in it:"
      ],
      "metadata": {
        "id": "UGb6sfj19Pcr"
      }
    },
    {
      "cell_type": "code",
      "execution_count": null,
      "metadata": {
        "id": "xFtZkpFb7_JX"
      },
      "outputs": [],
      "source": [
        "class User:\n",
        "  pass"
      ]
    },
    {
      "cell_type": "markdown",
      "source": [
        "We can create or instantiate an object of the class by calling it like a function"
      ],
      "metadata": {
        "id": "HX9OmsN89p9F"
      }
    },
    {
      "cell_type": "code",
      "source": [
        "user1 = User()"
      ],
      "metadata": {
        "id": "kAab9XaK9uWD"
      },
      "execution_count": null,
      "outputs": []
    },
    {
      "cell_type": "markdown",
      "source": [
        "We can verify that the object is of the class ```User```"
      ],
      "metadata": {
        "id": "7Ad3l2N292TB"
      }
    },
    {
      "cell_type": "code",
      "source": [
        "user1"
      ],
      "metadata": {
        "colab": {
          "base_uri": "https://localhost:8080/"
        },
        "id": "k8QQ7u039wH0",
        "outputId": "1db5bd54-5806-4dad-e427-c6144d8685f8"
      },
      "execution_count": null,
      "outputs": [
        {
          "output_type": "execute_result",
          "data": {
            "text/plain": [
              "<__main__.User at 0x7d2ee5829c30>"
            ]
          },
          "metadata": {},
          "execution_count": 5
        }
      ]
    },
    {
      "cell_type": "code",
      "source": [
        "type(user1)"
      ],
      "metadata": {
        "colab": {
          "base_uri": "https://localhost:8080/"
        },
        "id": "_SFFBFXx98a7",
        "outputId": "79b49c96-d88a-443c-9d3d-292648754922"
      },
      "execution_count": null,
      "outputs": [
        {
          "output_type": "execute_result",
          "data": {
            "text/plain": [
              "__main__.User"
            ]
          },
          "metadata": {},
          "execution_count": 6
        }
      ]
    },
    {
      "cell_type": "markdown",
      "source": [
        "the object ```user1``` does not contain any useful information. let's add a *constructor* method to the class to store attributes or properties."
      ],
      "metadata": {
        "id": "NYXwGjtZ-A8Q"
      }
    },
    {
      "cell_type": "code",
      "source": [
        "class User:\n",
        "  def __init__(self, username, name, email) :\n",
        "    self.username = username\n",
        "    self.name = name\n",
        "    self.email = email\n",
        "    print(\"User created\")"
      ],
      "metadata": {
        "id": "2NVF_Jrd9-ej"
      },
      "execution_count": null,
      "outputs": []
    },
    {
      "cell_type": "markdown",
      "source": [
        "We can now create an object with some properties"
      ],
      "metadata": {
        "id": "QDs1LRAa-ZDw"
      }
    },
    {
      "cell_type": "code",
      "source": [
        "user2 = User('raj','Rajendran','asrajendrayadav@gmail.com')"
      ],
      "metadata": {
        "colab": {
          "base_uri": "https://localhost:8080/"
        },
        "id": "f_fqleBK-XuW",
        "outputId": "089ddc66-0b20-4717-f7ad-4c511a331405"
      },
      "execution_count": null,
      "outputs": [
        {
          "output_type": "stream",
          "name": "stdout",
          "text": [
            "User created\n"
          ]
        }
      ]
    },
    {
      "cell_type": "code",
      "source": [
        "user2.name"
      ],
      "metadata": {
        "colab": {
          "base_uri": "https://localhost:8080/",
          "height": 35
        },
        "id": "hkexl_PJ-g_h",
        "outputId": "23610132-0317-4d6e-bfa0-29bccbda552f"
      },
      "execution_count": null,
      "outputs": [
        {
          "output_type": "execute_result",
          "data": {
            "text/plain": [
              "'Rajendran'"
            ],
            "application/vnd.google.colaboratory.intrinsic+json": {
              "type": "string"
            }
          },
          "metadata": {},
          "execution_count": 10
        }
      ]
    },
    {
      "cell_type": "code",
      "source": [
        "user2"
      ],
      "metadata": {
        "colab": {
          "base_uri": "https://localhost:8080/"
        },
        "id": "Gp5W9PQoAeOX",
        "outputId": "7b7c8d98-6c84-427d-d712-ee1e1f53f85e"
      },
      "execution_count": null,
      "outputs": [
        {
          "output_type": "execute_result",
          "data": {
            "text/plain": [
              "<__main__.User at 0x7d2ed51d1930>"
            ]
          },
          "metadata": {},
          "execution_count": 24
        }
      ]
    },
    {
      "cell_type": "code",
      "source": [
        "user2.name, user2.username, user2.email"
      ],
      "metadata": {
        "colab": {
          "base_uri": "https://localhost:8080/"
        },
        "id": "5Vbv2tz3-iCB",
        "outputId": "11003229-1f13-4e5e-a488-28820982e7c6"
      },
      "execution_count": null,
      "outputs": [
        {
          "output_type": "execute_result",
          "data": {
            "text/plain": [
              "('Rajendran', 'raj', 'asrajendrayadav@gmail.com')"
            ]
          },
          "metadata": {},
          "execution_count": 11
        }
      ]
    },
    {
      "cell_type": "code",
      "source": [
        "class User:\n",
        "  def __init__(self, username, name, email) :\n",
        "    self.username = username\n",
        "    self.name = name\n",
        "    self.email = email\n",
        "\n",
        "  def introduce_yourself(self, guest_name) :\n",
        "    print(f\"Hi {guest_name}, I'm {self.name}! Contact me at {self.email}\")"
      ],
      "metadata": {
        "id": "zH4bOEsr-xEI"
      },
      "execution_count": null,
      "outputs": []
    },
    {
      "cell_type": "code",
      "source": [
        "user3 = User('Rahul','Rahul Nagaraj', 'rahulnagaraj@gmail.com')"
      ],
      "metadata": {
        "id": "6wupZOnr_LUF"
      },
      "execution_count": null,
      "outputs": []
    },
    {
      "cell_type": "code",
      "source": [
        "user3.introduce_yourself('Priya')"
      ],
      "metadata": {
        "colab": {
          "base_uri": "https://localhost:8080/"
        },
        "id": "euqp7z-Y_SiE",
        "outputId": "ce277220-ff24-4847-ddf3-a0871c3b07c2"
      },
      "execution_count": null,
      "outputs": [
        {
          "output_type": "stream",
          "name": "stdout",
          "text": [
            "Hi Priya, I'm Rahul Nagaraj! Contact me at rahulnagaraj@gmail.com\n"
          ]
        }
      ]
    },
    {
      "cell_type": "code",
      "source": [
        "User.introduce_yourself(user3, 'David')"
      ],
      "metadata": {
        "colab": {
          "base_uri": "https://localhost:8080/"
        },
        "id": "dyK7ej6y_Wk5",
        "outputId": "96909843-9135-43a7-ea94-29d00f41d25b"
      },
      "execution_count": null,
      "outputs": [
        {
          "output_type": "stream",
          "name": "stdout",
          "text": [
            "Hi David, I'm Rahul Nagaraj! Contact me at rahulnagaraj@gmail.com\n"
          ]
        }
      ]
    },
    {
      "cell_type": "markdown",
      "source": [
        "Finally, we'll define a couple of helper methods to display user objects nicely within Jupyter"
      ],
      "metadata": {
        "id": "2fgCxo75_slu"
      }
    },
    {
      "cell_type": "code",
      "source": [
        "class User:\n",
        "  def __init__(self, username, name, email) :\n",
        "    self.username = username\n",
        "    self.name = name\n",
        "    self.email = email\n",
        "\n",
        "  def __repr__(self):\n",
        "    return f\"User(username = '{self.username}', name = '{self.name}', email = '{self.email}')\"\n",
        "\n",
        "  def __str__(self):\n",
        "    return self.__repr__()"
      ],
      "metadata": {
        "id": "IvPiYdCW_oB6"
      },
      "execution_count": null,
      "outputs": []
    },
    {
      "cell_type": "code",
      "source": [
        "user4 = User('manisha', 'manisha agarwal', 'manishagl@gmail.com')"
      ],
      "metadata": {
        "id": "_GX_rsgKAN_e"
      },
      "execution_count": null,
      "outputs": []
    },
    {
      "cell_type": "code",
      "source": [
        "user4"
      ],
      "metadata": {
        "colab": {
          "base_uri": "https://localhost:8080/"
        },
        "id": "PH6T-3JUAYML",
        "outputId": "f63f35f2-c879-4d19-ae37-b3c93b9add60"
      },
      "execution_count": null,
      "outputs": [
        {
          "output_type": "execute_result",
          "data": {
            "text/plain": [
              "User(username = 'manisha', name = 'manisha agarwal', email = 'manishagl@gmail.com')"
            ]
          },
          "metadata": {},
          "execution_count": 23
        }
      ]
    },
    {
      "cell_type": "markdown",
      "source": [
        "We can also express our desired data structure as python class ```UserDatabase``` with four methods : ```insert```, ```find```, ```update``` and ```list_all```"
      ],
      "metadata": {
        "id": "VUBjYJtyAshA"
      }
    },
    {
      "cell_type": "code",
      "source": [
        "class UserDatabase :\n",
        "  def insert(self, user):\n",
        "    pass\n",
        "\n",
        "  def find(self, username):\n",
        "    pass\n",
        "\n",
        "  def update(self, user):\n",
        "    pass\n",
        "\n",
        "  def list_all(self):\n",
        "    pass"
      ],
      "metadata": {
        "id": "gVCbRb4TAZFn"
      },
      "execution_count": null,
      "outputs": []
    },
    {
      "cell_type": "code",
      "source": [
        "aakash = User('aakash', 'Askash Rai', 'aakash@example.com')\n",
        "austin = User('austin', 'Austin Cooper', 'austin@example.com')\n",
        "brianna = User('brianna', 'Brianna Taylor', 'brianna@example.com')\n",
        "carlos = User('carlos', 'Carlos Sanchez', 'carlos@example.com')\n",
        "daisy = User('daisy', 'Daisy Martinez', 'daisy@example.com')\n",
        "elijah = User('elijah', 'Elijah Turner', 'elijah@example.com')\n",
        "fiona = User('fiona', 'Fiona Adams', 'fiona@example.com')\n",
        "gavin = User('gavin', 'Gavin Wallace', 'gavin@example.com')\n",
        "hannah = User('hannah', 'Hannah Foster', 'hannah@example.com')\n",
        "ian = User('ian', 'Ian Anderson', 'ian@example.com')\n",
        "julia = User('julia', 'Julia Carter', 'julia@example.com')"
      ],
      "metadata": {
        "id": "uHlU3dpKBNEP"
      },
      "execution_count": null,
      "outputs": []
    },
    {
      "cell_type": "code",
      "source": [
        "users = [ aakash, austin, brianna, carlos, daisy, elijah, fiona, gavin, hannah, ian, julia]"
      ],
      "metadata": {
        "id": "2fu7AtgiBshK"
      },
      "execution_count": null,
      "outputs": []
    },
    {
      "cell_type": "code",
      "source": [
        "elijah.username, elijah.name, elijah.email"
      ],
      "metadata": {
        "colab": {
          "base_uri": "https://localhost:8080/"
        },
        "id": "dQfgx53hB2Iy",
        "outputId": "993b6c5b-a0d6-47e1-9f6e-837d468a8e1c"
      },
      "execution_count": null,
      "outputs": [
        {
          "output_type": "execute_result",
          "data": {
            "text/plain": [
              "('elijah', 'Elijah Turner', 'elijah@example.com')"
            ]
          },
          "metadata": {},
          "execution_count": 29
        }
      ]
    },
    {
      "cell_type": "code",
      "source": [
        "elijah"
      ],
      "metadata": {
        "colab": {
          "base_uri": "https://localhost:8080/"
        },
        "id": "p0OVYQuYB87J",
        "outputId": "580eb52c-db14-4baf-f214-34b58ec1dd6f"
      },
      "execution_count": null,
      "outputs": [
        {
          "output_type": "execute_result",
          "data": {
            "text/plain": [
              "User(username = 'elijah', name = 'Elijah Turner', email = 'elijah@example.com')"
            ]
          },
          "metadata": {},
          "execution_count": 30
        }
      ]
    },
    {
      "cell_type": "code",
      "source": [
        "users"
      ],
      "metadata": {
        "colab": {
          "base_uri": "https://localhost:8080/"
        },
        "id": "AiCLAGGgCFQ7",
        "outputId": "4d6abf50-e1b3-4bf8-bb2d-92754f1c56a4"
      },
      "execution_count": null,
      "outputs": [
        {
          "output_type": "execute_result",
          "data": {
            "text/plain": [
              "[User(username = 'aakash', name = 'Askash Rai', email = 'aakash@example.com'),\n",
              " User(username = 'austin', name = 'Austin Cooper', email = 'austin@example.com'),\n",
              " User(username = 'brianna', name = 'Brianna Taylor', email = 'brianna@example.com'),\n",
              " User(username = 'carlos', name = 'Carlos Sanchez', email = 'carlos@example.com'),\n",
              " User(username = 'daisy', name = 'Daisy Martinez', email = 'daisy@example.com'),\n",
              " User(username = 'elijah', name = 'Elijah Turner', email = 'elijah@example.com'),\n",
              " User(username = 'fiona', name = 'Fiona Adams', email = 'fiona@example.com'),\n",
              " User(username = 'gavin', name = 'Gavin Wallace', email = 'gavin@example.com'),\n",
              " User(username = 'hannah', name = 'Hannah Foster', email = 'hannah@example.com'),\n",
              " User(username = 'ian', name = 'Ian Anderson', email = 'ian@example.com'),\n",
              " User(username = 'julia', name = 'Julia Carter', email = 'julia@example.com')]"
            ]
          },
          "metadata": {},
          "execution_count": 31
        }
      ]
    },
    {
      "cell_type": "markdown",
      "source": [
        "The various functions can be implemented as follows:\n",
        "\n",
        "\n",
        "1. **Insert** : loop through the list and add the new user at a position that keeps the list sorted\n",
        "\n",
        "2. **Find** : Loop through the list and find the user object with the username matching the query\n",
        "\n",
        "3. **Update** : Loop through the list, find the user object matching the query and update the details\n",
        "\n",
        "4. **List** : Return the list of user objects\n",
        "\n",
        "\n",
        "we can use the fact usernames, which are strins can be compared using <, > and == operators"
      ],
      "metadata": {
        "id": "GbiXnthECkO-"
      }
    },
    {
      "cell_type": "code",
      "source": [
        "'raj' > 'malai'"
      ],
      "metadata": {
        "colab": {
          "base_uri": "https://localhost:8080/"
        },
        "id": "_WGdLFd4CJY-",
        "outputId": "b2dfbd65-bcdc-4aa3-fc7a-51b58f875f48"
      },
      "execution_count": null,
      "outputs": [
        {
          "output_type": "execute_result",
          "data": {
            "text/plain": [
              "True"
            ]
          },
          "metadata": {},
          "execution_count": 32
        }
      ]
    },
    {
      "cell_type": "code",
      "source": [
        "class UserDatabase:\n",
        "  def __init__(self):\n",
        "    self.users = []\n",
        "\n",
        "  def insert(self, user):\n",
        "    i = 0\n",
        "    while i < len(self.users):\n",
        "      # Find the first username greater than the new user's username\n",
        "      if self.users[i].username > user.username :\n",
        "        break\n",
        "      i += 1\n",
        "    self.users.insert(i,user)\n",
        "\n",
        "  def find(self, username):\n",
        "    for user in self.users :\n",
        "      if user.username == username :\n",
        "        return user\n",
        "\n",
        "  def update(self, user):\n",
        "    target = self.find(user.username)\n",
        "    target.name, target.email = user.name, user.email\n",
        "\n",
        "  def list_all(self):\n",
        "    return self.users"
      ],
      "metadata": {
        "id": "lceshW5zDT3s"
      },
      "execution_count": null,
      "outputs": []
    },
    {
      "cell_type": "markdown",
      "source": [
        "We can create a new database of users by instantiating and object of the ```UserDatabase``` class"
      ],
      "metadata": {
        "id": "1HnISgHjEWPg"
      }
    },
    {
      "cell_type": "code",
      "source": [
        "database = UserDatabase()"
      ],
      "metadata": {
        "id": "7y0YEwJxEMtM"
      },
      "execution_count": null,
      "outputs": []
    },
    {
      "cell_type": "code",
      "source": [
        "database.insert(daisy)\n",
        "database.insert(elijah)\n",
        "database.insert(ian)"
      ],
      "metadata": {
        "id": "FUU7AIihEftv"
      },
      "execution_count": null,
      "outputs": []
    },
    {
      "cell_type": "code",
      "source": [
        "user = database.find('daisy')"
      ],
      "metadata": {
        "id": "_JTBP5M-EpAy"
      },
      "execution_count": null,
      "outputs": []
    },
    {
      "cell_type": "code",
      "source": [
        "user"
      ],
      "metadata": {
        "colab": {
          "base_uri": "https://localhost:8080/"
        },
        "id": "RQsHTv3WEs6U",
        "outputId": "81e489ac-dbc7-4b05-d108-f5f5b1e363ab"
      },
      "execution_count": null,
      "outputs": [
        {
          "output_type": "execute_result",
          "data": {
            "text/plain": [
              "User(username = 'daisy', name = 'Daisy Martinez', email = 'daisy@example.com')"
            ]
          },
          "metadata": {},
          "execution_count": 37
        }
      ]
    },
    {
      "cell_type": "code",
      "source": [
        "database.update(User(username = 'daisy', name = 'Daisy Julian', email = 'daisy@example.com'))"
      ],
      "metadata": {
        "id": "ZXDRGDwhEuVH"
      },
      "execution_count": null,
      "outputs": []
    },
    {
      "cell_type": "code",
      "source": [
        "user = database.find('daisy')\n",
        "user"
      ],
      "metadata": {
        "colab": {
          "base_uri": "https://localhost:8080/"
        },
        "id": "xn2XmFOmE3s4",
        "outputId": "efaea9bc-ff66-4130-d9b0-965148bd7ab2"
      },
      "execution_count": null,
      "outputs": [
        {
          "output_type": "execute_result",
          "data": {
            "text/plain": [
              "User(username = 'daisy', name = 'Daisy Julian', email = 'daisy@example.com')"
            ]
          },
          "metadata": {},
          "execution_count": 39
        }
      ]
    },
    {
      "cell_type": "code",
      "source": [
        "database.list_all()     # listed in alphabetical order"
      ],
      "metadata": {
        "colab": {
          "base_uri": "https://localhost:8080/"
        },
        "id": "biTb15VlE7VQ",
        "outputId": "12cb9d52-ff9c-4893-af2f-164afd5d5c7a"
      },
      "execution_count": null,
      "outputs": [
        {
          "output_type": "execute_result",
          "data": {
            "text/plain": [
              "[User(username = 'daisy', name = 'Daisy Julian', email = 'daisy@example.com'),\n",
              " User(username = 'elijah', name = 'Elijah Turner', email = 'elijah@example.com'),\n",
              " User(username = 'ian', name = 'Ian Anderson', email = 'ian@example.com')]"
            ]
          },
          "metadata": {},
          "execution_count": 40
        }
      ]
    },
    {
      "cell_type": "code",
      "source": [
        "database.insert(aakash)"
      ],
      "metadata": {
        "id": "fUzZAaarE-K4"
      },
      "execution_count": null,
      "outputs": []
    },
    {
      "cell_type": "code",
      "source": [
        "database.list_all()"
      ],
      "metadata": {
        "colab": {
          "base_uri": "https://localhost:8080/"
        },
        "id": "teon_J4SFG6E",
        "outputId": "72440da2-48bc-418e-9917-9cac15325919"
      },
      "execution_count": null,
      "outputs": [
        {
          "output_type": "execute_result",
          "data": {
            "text/plain": [
              "[User(username = 'aakash', name = 'Askash Rai', email = 'aakash@example.com'),\n",
              " User(username = 'daisy', name = 'Daisy Julian', email = 'daisy@example.com'),\n",
              " User(username = 'elijah', name = 'Elijah Turner', email = 'elijah@example.com'),\n",
              " User(username = 'ian', name = 'Ian Anderson', email = 'ian@example.com')]"
            ]
          },
          "metadata": {},
          "execution_count": 42
        }
      ]
    },
    {
      "cell_type": "markdown",
      "source": [
        "**Analyse the algorithm's complexity and identify inefficienies**\n",
        "\n",
        "The time complexities of various operations are listed below:\n",
        "\n",
        "1. Insert   : O(N)\n",
        "2. Find     : O(N)\n",
        "3. Update   : O(N)\n",
        "4. List     : O(1)"
      ],
      "metadata": {
        "id": "rBgzOKXEFUTU"
      }
    },
    {
      "cell_type": "markdown",
      "source": [
        "To get a sense of how long each function might take if there are 100 million users on the platform,  we cn simple run a ```for``` loop on 10 million numbers"
      ],
      "metadata": {
        "id": "5ZCtyUhrGFoo"
      }
    },
    {
      "cell_type": "code",
      "source": [
        "import time\n",
        "\n",
        "start_time = time.time()\n",
        "\n",
        "for i in range(100000000):\n",
        "    j = i * i\n",
        "\n",
        "end_time = time.time()\n",
        "execution_time = end_time - start_time\n",
        "\n",
        "print(f\"Execution time: {execution_time} seconds\")\n"
      ],
      "metadata": {
        "colab": {
          "base_uri": "https://localhost:8080/"
        },
        "id": "Xc2QPvwHFIvD",
        "outputId": "bd4ba6b2-731f-4d47-e627-c7edfb5fb654"
      },
      "execution_count": null,
      "outputs": [
        {
          "output_type": "stream",
          "name": "stdout",
          "text": [
            "Execution time: 16.677894830703735 seconds\n"
          ]
        }
      ]
    },
    {
      "cell_type": "markdown",
      "source": [
        "It takes almost 16 seconds to execute all the iterations in the above cell\n",
        "\n",
        "- A 16-second delay for fetching user profiles will lead to a suboptimal users experience and may cause many users to stop using the platform altogether.\n",
        "\n",
        "- The 16-second processing time for each profile request will also significantly limit the number of users that can access the paltform at a time or increase the cloud infrastructure costs or the company by millions of dollars.\n",
        "\n",
        "\n",
        "As a senior backend engineer, you must come up with a more efficient data structure! Choosing the right data structure for the requirements at hand is an important skil. It's apparent that a sorted list of users might not be the best structure to organize profile information for millions of users."
      ],
      "metadata": {
        "id": "zhxMbW8mGcrp"
      }
    },
    {
      "cell_type": "markdown",
      "source": [
        "We can limit the number of iteration required for common operations like find, insert and update by organizing our data in the followind structure, called **binary tree**\n",
        "\n",
        "It is called a tree because it vaguely looks like an inverted tree trunk with branches"
      ],
      "metadata": {
        "id": "5DdrZ1nLIIQi"
      }
    },
    {
      "cell_type": "markdown",
      "source": [
        "- The word 'binary' indicates that each 'node' in the tree can have at most 2 chidren (left or right)\n",
        "\n",
        "- Nodes can have 0, 1 or 2 children. Nodes that do not have any children are sometimes called as 'leaves'\n",
        "\n",
        "- The single node at the top is called as 'root node' and it typically where operations like search, update begins."
      ],
      "metadata": {
        "id": "LhaY1iFMIZti"
      }
    },
    {
      "cell_type": "markdown",
      "source": [
        "# **Balanced Binary Trees**"
      ],
      "metadata": {
        "id": "sGTEOCAnMuWD"
      }
    },
    {
      "cell_type": "markdown",
      "source": [
        "For our use case, we need a binary tree to have some additional properties 🇰\n",
        "1. **Keys and Values** : Each node of the tree stores a key (a username) and a value (a user object). A binary tree where nodes have both a ke and a value is often referred to as map or treemap (because it maps a key to the values)\n",
        "\n",
        "2. **Binary Search Tree** : The left subtree of any node only contains nodes with keys that are lexicographically smaller than node's key, and the right subtree of any node only contains nodes with keys that are lexicographically larger than the node's key. A tree that satisfies this property is called a binary search tree, and it's easy to locate a specific key by traversing a single path down from the root node.\n",
        "\n",
        "3. **Balanced Tree** : The tree is balanced. i.e : it does not skew too heavily to one side or the other. The left and right subtrees of any node shouldn't differ in height / depth by more than 1 level"
      ],
      "metadata": {
        "id": "GLjjqO2fMyWw"
      }
    },
    {
      "cell_type": "markdown",
      "source": [
        "### **Height of a Binary Tree**\n",
        "\n"
      ],
      "metadata": {
        "id": "zbH5DpDkOVjG"
      }
    },
    {
      "cell_type": "markdown",
      "source": [
        "The number of levels in a tree is called its height. Each level of a tree contains twice as many nodes as the previous level.\n",
        "\n",
        "For a tree of height k, here's a list of the number of nodes at each level:\n",
        "\n",
        "Level 0 : 1\n",
        "Level 1 : 2\n",
        "Level 2 : 4 i.e 2^2\n",
        "Level 3 : 8 i.e 2^3\n",
        "\n",
        "....\n",
        "\n",
        "\n",
        "Level k : 2^k\n",
        "\n",
        "\n",
        "if the total number of nodes in the tree is ```N```, then it follows that\n",
        "\n",
        "> N = 1 + 2^1 + 2^2 + 2^3 + ... + 2^(k-1)\n",
        "\n",
        "\n",
        "We can simplify this equation by assing one on each side\n",
        "\n",
        "> N + 1 = 1 +  1 + 2^1 + 2^2 + 2^3 + ... + 2^(k-1)\n",
        "\n",
        "> N + 1 = 2^1 + 2^1 + 2^2 + 2^3 + ... + 2^(k-1)\n",
        "\n",
        "> N + = 2^2 + 2^2 + 2^3 + ... + 2^(k-1)\n",
        "\n",
        "...\n",
        "\n",
        "\n",
        "> N + 1 = 2 ^ (k-1) + 2^(k-1)\n",
        "\n",
        "> N + 1 = 2 ^ k\n",
        "\n",
        "> k = log(N +1) <= log(N) + 1\n",
        "\n",
        "\n",
        "Thus, to store N records, we require a balanced binary search tree (BST) of height no larger than log(N) + 1. this is a very useful property, in combination with the fact that nodes are arranged in a way that makes it easy to find a specific key by following a single path down from the root.\n"
      ],
      "metadata": {
        "id": "8S9iRx9qObk7"
      }
    },
    {
      "cell_type": "markdown",
      "source": [
        "therefore, by using binary trees, the ```insert, find and update``` operations in a balanced BST have a time complexity of ```O(log N)``` since they all involve traversing a single path down from the root of the tree."
      ],
      "metadata": {
        "id": "UnQ4TBOrQm-n"
      }
    },
    {
      "cell_type": "markdown",
      "source": [
        "To begin, we'll create a sinple binary tree containing numers as keys within nodes."
      ],
      "metadata": {
        "id": "thdQb6vzQ4--"
      }
    },
    {
      "cell_type": "code",
      "source": [
        "class TreeNode:\n",
        "  def __init__(self, key):\n",
        "    self.key = key\n",
        "    self.left = None\n",
        "    self.right = None"
      ],
      "metadata": {
        "id": "wmP_0ukcGRdb"
      },
      "execution_count": null,
      "outputs": []
    },
    {
      "cell_type": "markdown",
      "source": [
        "Let;s create objects representing each node of the above tree"
      ],
      "metadata": {
        "id": "hE5w9CUURS8n"
      }
    },
    {
      "cell_type": "code",
      "source": [
        "node0 = TreeNode(3)\n",
        "node1 = TreeNode(4)\n",
        "node2 = TreeNode(5)"
      ],
      "metadata": {
        "id": "8p1jdZpkRIrS"
      },
      "execution_count": null,
      "outputs": []
    },
    {
      "cell_type": "code",
      "source": [
        "node0"
      ],
      "metadata": {
        "colab": {
          "base_uri": "https://localhost:8080/"
        },
        "id": "XJyvBvn1RXN6",
        "outputId": "c3abf252-ad86-4e38-fd95-cb5cf159ab6b"
      },
      "execution_count": null,
      "outputs": [
        {
          "output_type": "execute_result",
          "data": {
            "text/plain": [
              "<__main__.TreeNode at 0x7d2eb2c3e6b0>"
            ]
          },
          "metadata": {},
          "execution_count": 46
        }
      ]
    },
    {
      "cell_type": "code",
      "source": [
        "node0.left = node1\n",
        "node0.right = node2"
      ],
      "metadata": {
        "id": "9TCHZ4m5RX7l"
      },
      "execution_count": null,
      "outputs": []
    },
    {
      "cell_type": "markdown",
      "source": [
        "let's create a new variable tree which simply points to root node, and use it to access all the nodes within the tree"
      ],
      "metadata": {
        "id": "lTzA-UA5RgiI"
      }
    },
    {
      "cell_type": "code",
      "source": [
        "tree = node0"
      ],
      "metadata": {
        "id": "OxVMn_WQRcQc"
      },
      "execution_count": null,
      "outputs": []
    },
    {
      "cell_type": "code",
      "source": [
        "tree.key"
      ],
      "metadata": {
        "colab": {
          "base_uri": "https://localhost:8080/"
        },
        "id": "AqGpzlpzRqLL",
        "outputId": "d050c482-5825-4e07-e589-d16b6960c977"
      },
      "execution_count": null,
      "outputs": [
        {
          "output_type": "execute_result",
          "data": {
            "text/plain": [
              "3"
            ]
          },
          "metadata": {},
          "execution_count": 49
        }
      ]
    },
    {
      "cell_type": "code",
      "source": [
        "tree.left.key"
      ],
      "metadata": {
        "colab": {
          "base_uri": "https://localhost:8080/"
        },
        "id": "3A3qKw0CRrsS",
        "outputId": "228a2ce4-0845-43b3-eff5-65d15c624fe0"
      },
      "execution_count": null,
      "outputs": [
        {
          "output_type": "execute_result",
          "data": {
            "text/plain": [
              "4"
            ]
          },
          "metadata": {},
          "execution_count": 50
        }
      ]
    },
    {
      "cell_type": "code",
      "source": [
        "tree.right.key"
      ],
      "metadata": {
        "colab": {
          "base_uri": "https://localhost:8080/"
        },
        "id": "eodyQ8nxRttN",
        "outputId": "0bcca3a6-06a0-424c-bd3c-6a68145da652"
      },
      "execution_count": null,
      "outputs": [
        {
          "output_type": "execute_result",
          "data": {
            "text/plain": [
              "5"
            ]
          },
          "metadata": {},
          "execution_count": 51
        }
      ]
    },
    {
      "cell_type": "markdown",
      "source": [
        "let's try to create a new tree of a bit more complicated one"
      ],
      "metadata": {
        "id": "qX9omPlQR97b"
      }
    },
    {
      "cell_type": "code",
      "source": [
        "node0 = TreeNode(2)\n",
        "node1 = TreeNode(3)\n",
        "node2 = TreeNode(5)\n",
        "node11 = TreeNode(1)\n",
        "node21 = TreeNode(3)\n",
        "node22 = TreeNode(7)\n",
        "node212 = TreeNode(4)\n",
        "node221 = TreeNode(6)\n",
        "node222 = TreeNode(8)"
      ],
      "metadata": {
        "id": "1H5AaVdZRwxF"
      },
      "execution_count": null,
      "outputs": []
    },
    {
      "cell_type": "code",
      "source": [
        "node0.left = node1\n",
        "node0.right = node2\n",
        "\n",
        "node1.left = node11\n",
        "\n",
        "node2.left = node21\n",
        "node2.right = node22\n",
        "\n",
        "node21.right = node212\n",
        "\n",
        "node22.left = node221\n",
        "node22.right = node222"
      ],
      "metadata": {
        "id": "KiWl3MnySaS3"
      },
      "execution_count": null,
      "outputs": []
    },
    {
      "cell_type": "code",
      "source": [
        "tree = node0"
      ],
      "metadata": {
        "id": "og1EvOSES1nL"
      },
      "execution_count": null,
      "outputs": []
    },
    {
      "cell_type": "code",
      "source": [
        "tree.key"
      ],
      "metadata": {
        "colab": {
          "base_uri": "https://localhost:8080/"
        },
        "id": "T4MQgsl9S4d4",
        "outputId": "169f93a2-63df-4f5f-a373-f439cae2b220"
      },
      "execution_count": null,
      "outputs": [
        {
          "output_type": "execute_result",
          "data": {
            "text/plain": [
              "2"
            ]
          },
          "metadata": {},
          "execution_count": 55
        }
      ]
    },
    {
      "cell_type": "code",
      "source": [
        "tree.left.key"
      ],
      "metadata": {
        "colab": {
          "base_uri": "https://localhost:8080/"
        },
        "id": "TVjIG3WbTDui",
        "outputId": "31ecdaf2-29c2-442e-827a-57b3eab0a08e"
      },
      "execution_count": null,
      "outputs": [
        {
          "output_type": "execute_result",
          "data": {
            "text/plain": [
              "3"
            ]
          },
          "metadata": {},
          "execution_count": 56
        }
      ]
    },
    {
      "cell_type": "code",
      "source": [
        "tree.right.key"
      ],
      "metadata": {
        "colab": {
          "base_uri": "https://localhost:8080/"
        },
        "id": "q-gxnzKGTF6G",
        "outputId": "1850151a-e94d-4b98-db74-b8e618386385"
      },
      "execution_count": null,
      "outputs": [
        {
          "output_type": "execute_result",
          "data": {
            "text/plain": [
              "5"
            ]
          },
          "metadata": {},
          "execution_count": 57
        }
      ]
    },
    {
      "cell_type": "code",
      "source": [
        "tree.left.left.key"
      ],
      "metadata": {
        "colab": {
          "base_uri": "https://localhost:8080/"
        },
        "id": "D8NL91OtTHY1",
        "outputId": "7162ed30-c45d-4fc4-e027-c2a50a835204"
      },
      "execution_count": null,
      "outputs": [
        {
          "output_type": "execute_result",
          "data": {
            "text/plain": [
              "1"
            ]
          },
          "metadata": {},
          "execution_count": 58
        }
      ]
    },
    {
      "cell_type": "code",
      "source": [],
      "metadata": {
        "id": "rYrenHYHTLJP"
      },
      "execution_count": null,
      "outputs": []
    }
  ]
}