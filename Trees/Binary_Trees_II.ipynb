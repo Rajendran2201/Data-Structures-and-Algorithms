{
  "nbformat": 4,
  "nbformat_minor": 0,
  "metadata": {
    "colab": {
      "provenance": []
    },
    "kernelspec": {
      "name": "python3",
      "display_name": "Python 3"
    },
    "language_info": {
      "name": "python"
    }
  },
  "cells": [
    {
      "cell_type": "markdown",
      "source": [
        "# **Binary Tree**"
      ],
      "metadata": {
        "id": "S57LNBb1P8jm"
      }
    },
    {
      "cell_type": "markdown",
      "source": [
        "It's a bit inconvenient to write / connect the nodes of the tree manually. Inorder to resolve it, let's write a helper function which can convert a tuple into a structure (```left_subtree, key, right_subtree```) into a binary tree.\n",
        "\n",
        "Note : ```left_subtree and right_subtree``` are themselves tuples"
      ],
      "metadata": {
        "id": "6QZ0ZurXP_qW"
      }
    },
    {
      "cell_type": "code",
      "source": [
        "class TreeNode:\n",
        "  def __init__(self, key):\n",
        "    self.key = key\n",
        "    self.left = None\n",
        "    self.right = None"
      ],
      "metadata": {
        "id": "v-wldjTxRIQs"
      },
      "execution_count": 2,
      "outputs": []
    },
    {
      "cell_type": "code",
      "execution_count": 1,
      "metadata": {
        "id": "e0wK7eltPkEi"
      },
      "outputs": [],
      "source": [
        "tree_tuple = ( (1,3,None), 2, ((None,3,4), 5, (6,7,8)))"
      ]
    },
    {
      "cell_type": "code",
      "source": [
        "def parse_tuple(data):\n",
        "  # print(data)\n",
        "  if isinstance(data, tuple) and len(data) == 3:\n",
        "    node = TreeNode(data[1])\n",
        "    node.left = parse_tuple(data[0])\n",
        "    node.right = parse_tuple(data[2])\n",
        "  elif data is None:\n",
        "    node = None\n",
        "  else :\n",
        "    node = TreeNode(data)\n",
        "  return node"
      ],
      "metadata": {
        "id": "rxMxiOiiQpuc"
      },
      "execution_count": 3,
      "outputs": []
    },
    {
      "cell_type": "markdown",
      "source": [
        "The ```parse_tuple``` creates a new root node when a tuple size is 3 as an input. Interestingly, to create the the left and right subtree for the node, the ```parse_tuple``` dunction invokes itself. This technique is called as recursion. The chain of recursive calls ends when the ```parse_tuple``` encounters a number oe ```None``` as input."
      ],
      "metadata": {
        "id": "rX0doNlMRYkq"
      }
    },
    {
      "cell_type": "code",
      "source": [
        "tree2 = parse_tuple(tree_tuple)"
      ],
      "metadata": {
        "id": "1KF5mKbCRJ-h"
      },
      "execution_count": 4,
      "outputs": []
    },
    {
      "cell_type": "code",
      "source": [
        "tree2.key"
      ],
      "metadata": {
        "colab": {
          "base_uri": "https://localhost:8080/"
        },
        "id": "FOaS1kpuStSf",
        "outputId": "452c47e4-5c7c-4b95-adbf-f38dd9d84ebb"
      },
      "execution_count": 5,
      "outputs": [
        {
          "output_type": "execute_result",
          "data": {
            "text/plain": [
              "2"
            ]
          },
          "metadata": {},
          "execution_count": 5
        }
      ]
    },
    {
      "cell_type": "code",
      "source": [
        "tree2.left.key"
      ],
      "metadata": {
        "colab": {
          "base_uri": "https://localhost:8080/"
        },
        "id": "odMRa_EwSvUs",
        "outputId": "d8b1eabd-3a01-4e25-fba2-4da244c5ddea"
      },
      "execution_count": 6,
      "outputs": [
        {
          "output_type": "execute_result",
          "data": {
            "text/plain": [
              "3"
            ]
          },
          "metadata": {},
          "execution_count": 6
        }
      ]
    },
    {
      "cell_type": "code",
      "source": [
        "tree2.right.key"
      ],
      "metadata": {
        "colab": {
          "base_uri": "https://localhost:8080/"
        },
        "id": "4zoNUxp3Sx19",
        "outputId": "12a63c9c-e10b-4ed2-8a59-1662eeb6ab9a"
      },
      "execution_count": 7,
      "outputs": [
        {
          "output_type": "execute_result",
          "data": {
            "text/plain": [
              "5"
            ]
          },
          "metadata": {},
          "execution_count": 7
        }
      ]
    },
    {
      "cell_type": "code",
      "source": [
        "tree2.left.left.key"
      ],
      "metadata": {
        "colab": {
          "base_uri": "https://localhost:8080/"
        },
        "id": "lJ7ogBvRS0MH",
        "outputId": "4c99aed8-e637-4735-88b9-2f567c7659c7"
      },
      "execution_count": 8,
      "outputs": [
        {
          "output_type": "execute_result",
          "data": {
            "text/plain": [
              "1"
            ]
          },
          "metadata": {},
          "execution_count": 8
        }
      ]
    },
    {
      "cell_type": "markdown",
      "source": [
        "Now, let's define a dunction ```tree_to_tuple``` that converts a binary tree into a tuple representing the same tree."
      ],
      "metadata": {
        "id": "7T1YNZPeS8Y9"
      }
    },
    {
      "cell_type": "code",
      "source": [
        "def tree_to_tuple(node):\n",
        "  pass"
      ],
      "metadata": {
        "id": "NSu0t6VeS2aJ"
      },
      "execution_count": 9,
      "outputs": []
    },
    {
      "cell_type": "markdown",
      "source": [
        "Let's create another helper function to display all the keys in a tree-like tructure for easier visualization"
      ],
      "metadata": {
        "id": "l8POGixOTYiV"
      }
    },
    {
      "cell_type": "code",
      "source": [
        "def display_keys(node, space='\\t', level = 0):\n",
        "  # print(node.key is node else None, level)\n",
        "\n",
        "  # If the node is empty\n",
        "  if node is None:\n",
        "    print(space*level + 'Ø')\n",
        "    return\n",
        "\n",
        "  # If the node is a leaf\n",
        "  if node.left is None and node.right is None:\n",
        "    print(space*level + str(node.key))\n",
        "    return\n",
        "\n",
        "  # If the node has children\n",
        "  display_keys(node.right, space, level+1)\n",
        "  print(space*level + str(node.key))\n",
        "  display_keys(node.left, space, level+1)"
      ],
      "metadata": {
        "id": "BaBQwly6TXTl"
      },
      "execution_count": 10,
      "outputs": []
    },
    {
      "cell_type": "markdown",
      "source": [
        "Once again, the ```display_keys``` function uses recursion to print all the keys of the left and right subtree with proper indentation."
      ],
      "metadata": {
        "id": "ZqRoIFqgZAl7"
      }
    },
    {
      "cell_type": "code",
      "source": [
        "display_keys(tree2, ' ')"
      ],
      "metadata": {
        "id": "o8trT2m5Y9hu",
        "outputId": "6994caae-c165-40c6-d53c-733d71c05adf",
        "colab": {
          "base_uri": "https://localhost:8080/"
        }
      },
      "execution_count": 11,
      "outputs": [
        {
          "output_type": "stream",
          "name": "stdout",
          "text": [
            "   8\n",
            "  7\n",
            "   6\n",
            " 5\n",
            "   4\n",
            "  3\n",
            "   Ø\n",
            "2\n",
            "  Ø\n",
            " 3\n",
            "  1\n"
          ]
        }
      ]
    },
    {
      "cell_type": "markdown",
      "source": [
        "## **Traversing Binary Trees**"
      ],
      "metadata": {
        "id": "yGCxsxcvZkLG"
      }
    },
    {
      "cell_type": "markdown",
      "source": [
        "The following questions are frequently asked in interviews and coding assessments :"
      ],
      "metadata": {
        "id": "qliSAeJfZn3v"
      }
    },
    {
      "cell_type": "markdown",
      "source": [
        "> **QUESTION1** : Write a function to perform the *inorder* traversal of a binary tree\n",
        "\n",
        ">  **QUESTION2** :Write a function to perform the *preorder* traversal of a binary tree\n",
        "\n",
        "\n",
        ">  **QUESTION3** :Write a function to perform the *postorder* traversal of a binary tree\n"
      ],
      "metadata": {
        "id": "yNChXo1QZvDt"
      }
    },
    {
      "cell_type": "markdown",
      "source": [
        "A *traversal* refers to the process of visiting each node of a tree exactly once. Visiting a node generally refers to adding the node's key to a list. There are three ways to traversea binary tree and return the list of visited keys:"
      ],
      "metadata": {
        "id": "6CPCL-xxaDEl"
      }
    },
    {
      "cell_type": "markdown",
      "source": [
        "### **Inorder Traversal**"
      ],
      "metadata": {
        "id": "Ik_hzM6QaR9L"
      }
    },
    {
      "cell_type": "markdown",
      "source": [
        "1. Traverse the left subtree recursively inorder\n",
        "\n",
        "2. Traverse the current node\n",
        "\n",
        "3. Traverse the right subtree recursively inorder"
      ],
      "metadata": {
        "id": "zJYDGzMaaVdu"
      }
    },
    {
      "cell_type": "code",
      "source": [
        "def traverse_in_order(node):\n",
        "  if node is None :\n",
        "    return []\n",
        "  return (traverse_in_order(node.left) +\n",
        "          [node.key] +\n",
        "          traverse_in_order(node.right))"
      ],
      "metadata": {
        "id": "SZNGtsSRcjaf"
      },
      "execution_count": 12,
      "outputs": []
    },
    {
      "cell_type": "code",
      "source": [
        "traverse_in_order(tree2)"
      ],
      "metadata": {
        "id": "lmLS-nNRc5zy",
        "outputId": "cddbc62d-1422-42ff-a3b3-5e560e5b8b01",
        "colab": {
          "base_uri": "https://localhost:8080/"
        }
      },
      "execution_count": 13,
      "outputs": [
        {
          "output_type": "execute_result",
          "data": {
            "text/plain": [
              "[1, 3, 2, 3, 4, 5, 6, 7, 8]"
            ]
          },
          "metadata": {},
          "execution_count": 13
        }
      ]
    },
    {
      "cell_type": "markdown",
      "source": [
        "### **Preorder Traversal**"
      ],
      "metadata": {
        "id": "9A3AEwx1anDG"
      }
    },
    {
      "cell_type": "markdown",
      "source": [
        "1. Traverse the current node\n",
        "\n",
        "2. Traverse the left subtree recursively preorder\n",
        "\n",
        "3. Traverse the right subtree recursively preorder"
      ],
      "metadata": {
        "id": "Oh2t6tLYa_oR"
      }
    },
    {
      "cell_type": "code",
      "source": [
        "def traverse_pre_order(node):\n",
        "  if node is None :\n",
        "    return []\n",
        "  return ([node.key] +\n",
        "          traverse_in_order(node.left) +\n",
        "          traverse_in_order(node.right))"
      ],
      "metadata": {
        "id": "UTTsnJkGeJZU"
      },
      "execution_count": 17,
      "outputs": []
    },
    {
      "cell_type": "markdown",
      "source": [
        "### **Postorder Traversal**\n",
        "\n",
        "1. The left subtree is traversed first\n",
        "\n",
        "2. Then the right subtree is traversed\n",
        "\n",
        "3. Finally, the root node of the subtree is traversed"
      ],
      "metadata": {
        "id": "27KFV2K-bXzL"
      }
    },
    {
      "cell_type": "code",
      "source": [
        "def traverse_post_order(node):\n",
        "  if node is None :\n",
        "    return []\n",
        "  return ( traverse_in_order(node.left) +\n",
        "          traverse_in_order(node.right) +\n",
        "           [node.key] )"
      ],
      "metadata": {
        "id": "XNwQ_rWzeQ-K"
      },
      "execution_count": 16,
      "outputs": []
    },
    {
      "cell_type": "markdown",
      "source": [
        "## **Height ans size of a Binary tree**\n",
        "\n",
        "> **QUESTION** : Write a function to calculate the height / depth of a binary tree\n",
        "\n",
        "> **QUESTION** : Write a function to count the number of nodes in a binary tree"
      ],
      "metadata": {
        "id": "mfeMMQuDfR2c"
      }
    },
    {
      "cell_type": "markdown",
      "source": [
        "The *height / depth* of a binary tree is defined as the length of the longest path from its root node to a leaf. It can be computed recursivley."
      ],
      "metadata": {
        "id": "7vjqaX8yffAi"
      }
    },
    {
      "cell_type": "code",
      "source": [
        "def tree_height(node):\n",
        "  if node is None:\n",
        "    return 0\n",
        "  return 1 + max(tree_height(node.left) , tree_height(node.right))"
      ],
      "metadata": {
        "id": "Y9GQVo4SZOJv"
      },
      "execution_count": 18,
      "outputs": []
    },
    {
      "cell_type": "code",
      "source": [
        "tree_height(tree2)"
      ],
      "metadata": {
        "id": "AmL6i9cgf2Dz",
        "outputId": "2954d08c-76e0-4119-bca7-2fe8677722d2",
        "colab": {
          "base_uri": "https://localhost:8080/"
        }
      },
      "execution_count": 19,
      "outputs": [
        {
          "output_type": "execute_result",
          "data": {
            "text/plain": [
              "4"
            ]
          },
          "metadata": {},
          "execution_count": 19
        }
      ]
    },
    {
      "cell_type": "markdown",
      "source": [
        "Here's a function to count the number of nodes in a binary tree"
      ],
      "metadata": {
        "id": "h9nGI9pBiOUU"
      }
    },
    {
      "cell_type": "code",
      "source": [
        "def count_nodes(node):\n",
        "  if node is None:\n",
        "    return 0\n",
        "  return 1 + count_nodes(node.left) + count_nodes(node.right)"
      ],
      "metadata": {
        "id": "doH5ZfqViGtT"
      },
      "execution_count": 20,
      "outputs": []
    },
    {
      "cell_type": "code",
      "source": [
        "count_nodes(tree2)"
      ],
      "metadata": {
        "id": "EqTLW1-yiaxZ",
        "outputId": "1ef10854-5b12-4cc1-94de-f66e0894c537",
        "colab": {
          "base_uri": "https://localhost:8080/"
        }
      },
      "execution_count": 21,
      "outputs": [
        {
          "output_type": "execute_result",
          "data": {
            "text/plain": [
              "9"
            ]
          },
          "metadata": {},
          "execution_count": 21
        }
      ]
    },
    {
      "cell_type": "markdown",
      "source": [
        "As a final step, we can compile all the functions we've written so dar as methods within the ```TreeNode``` class itself. Encapsulation of data and functionality eithin the same class is a good programming practice."
      ],
      "metadata": {
        "id": "CqNQBWUQmLSD"
      }
    },
    {
      "cell_type": "code",
      "source": [
        "class TreeNode():\n",
        "    def __init__(self, key):\n",
        "        self.key, self.left, self.right = key, None, None\n",
        "\n",
        "    def height(self):\n",
        "        if self is None:\n",
        "            return 0\n",
        "        return 1 + max(TreeNode.height(self.left), TreeNode.height(self.right))\n",
        "\n",
        "    def size(self):\n",
        "        if self is None:\n",
        "            return 0\n",
        "        return 1 + TreeNode.size(self.left) + TreeNode.size(self.right)\n",
        "\n",
        "    def traverse_in_order(self):\n",
        "        if self is None:\n",
        "            return []\n",
        "        return (TreeNode.traverse_in_order(self.left) +\n",
        "                [self.key] +\n",
        "                TreeNode.traverse_in_order(self.right))\n",
        "\n",
        "    def display_keys(self, space='\\t', level=0):\n",
        "        # If the node is empty\n",
        "        if self is None:\n",
        "            print(space*level + '∅')\n",
        "            return\n",
        "\n",
        "        # If the node is a leaf\n",
        "        if self.left is None and self.right is None:\n",
        "            print(space*level + str(self.key))\n",
        "            return\n",
        "\n",
        "        # If the node has children\n",
        "        display_keys(self.right, space, level+1)\n",
        "        print(space*level + str(self.key))\n",
        "        display_keys(self.left,space, level+1)\n",
        "\n",
        "    def to_tuple(self):\n",
        "        if self is None:\n",
        "            return None\n",
        "        if self.left is None and self.right is None:\n",
        "            return self.key\n",
        "        return TreeNode.to_tuple(self.left),  self.key, TreeNode.to_tuple(self.right)\n",
        "\n",
        "    def __str__(self):\n",
        "        return \"BinaryTree <{}>\".format(self.to_tuple())\n",
        "\n",
        "    def __repr__(self):\n",
        "        return \"BinaryTree <{}>\".format(self.to_tuple())\n",
        "\n",
        "    @staticmethod\n",
        "    def parse_tuple(data):\n",
        "        if data is None:\n",
        "            node = None\n",
        "        elif isinstance(data, tuple) and len(data) == 3:\n",
        "            node = TreeNode(data[1])\n",
        "            node.left = TreeNode.parse_tuple(data[0])\n",
        "            node.right = TreeNode.parse_tuple(data[2])\n",
        "        else:\n",
        "            node = TreeNode(data)\n",
        "        return node"
      ],
      "metadata": {
        "id": "eP-tq1HnidTQ"
      },
      "execution_count": 51,
      "outputs": []
    },
    {
      "cell_type": "code",
      "source": [
        "tree_tuple = ((1,3,None), 2, ((None, 3, 4), 5, (6, 7, 8)))"
      ],
      "metadata": {
        "id": "x2rmZBTxoPhD"
      },
      "execution_count": 52,
      "outputs": []
    },
    {
      "cell_type": "code",
      "source": [
        "tree = TreeNode.parse_tuple(tree_tuple)\n"
      ],
      "metadata": {
        "id": "MMd64PEToWOx"
      },
      "execution_count": 59,
      "outputs": []
    },
    {
      "cell_type": "code",
      "source": [
        "tree"
      ],
      "metadata": {
        "id": "LT5HRJN0obUe",
        "outputId": "8db74f0b-ddda-4139-b38e-12f0971017ca",
        "colab": {
          "base_uri": "https://localhost:8080/"
        }
      },
      "execution_count": 60,
      "outputs": [
        {
          "output_type": "execute_result",
          "data": {
            "text/plain": [
              "BinaryTree <((1, 3, None), 2, ((None, 3, 4), 5, (6, 7, 8)))>"
            ]
          },
          "metadata": {},
          "execution_count": 60
        }
      ]
    },
    {
      "cell_type": "code",
      "source": [
        "TreeNode.display_keys(tree, ' ')"
      ],
      "metadata": {
        "id": "UecTheZVoqYI",
        "outputId": "21ab2af8-3e00-4a59-8c88-f8381c82dcc6",
        "colab": {
          "base_uri": "https://localhost:8080/"
        }
      },
      "execution_count": 61,
      "outputs": [
        {
          "output_type": "stream",
          "name": "stdout",
          "text": [
            "   8\n",
            "  7\n",
            "   6\n",
            " 5\n",
            "   4\n",
            "  3\n",
            "   Ø\n",
            "2\n",
            "  Ø\n",
            " 3\n",
            "  1\n"
          ]
        }
      ]
    },
    {
      "cell_type": "code",
      "source": [
        "tree.height()"
      ],
      "metadata": {
        "id": "afzhu0pXot3D",
        "outputId": "1435a9f2-0719-4a54-f9d2-8e9511343ac3",
        "colab": {
          "base_uri": "https://localhost:8080/"
        }
      },
      "execution_count": 62,
      "outputs": [
        {
          "output_type": "execute_result",
          "data": {
            "text/plain": [
              "4"
            ]
          },
          "metadata": {},
          "execution_count": 62
        }
      ]
    },
    {
      "cell_type": "code",
      "source": [
        "tree.size()"
      ],
      "metadata": {
        "id": "nqRTYa0gov7K",
        "outputId": "acf6dd46-aef3-479a-ae0a-a2f36fb77562",
        "colab": {
          "base_uri": "https://localhost:8080/"
        }
      },
      "execution_count": 63,
      "outputs": [
        {
          "output_type": "execute_result",
          "data": {
            "text/plain": [
              "9"
            ]
          },
          "metadata": {},
          "execution_count": 63
        }
      ]
    },
    {
      "cell_type": "code",
      "source": [
        "tree.traverse_in_order()"
      ],
      "metadata": {
        "id": "5JpN-2FppKii",
        "outputId": "384999d7-ee11-40b8-a18b-7edd0a21e1fd",
        "colab": {
          "base_uri": "https://localhost:8080/"
        }
      },
      "execution_count": 64,
      "outputs": [
        {
          "output_type": "execute_result",
          "data": {
            "text/plain": [
              "[1, 3, 2, 3, 4, 5, 6, 7, 8]"
            ]
          },
          "metadata": {},
          "execution_count": 64
        }
      ]
    },
    {
      "cell_type": "code",
      "source": [
        "tree.to_tuple()"
      ],
      "metadata": {
        "id": "oT1rYxeWpMvv",
        "outputId": "a4b763c1-e317-424c-c7af-90de80d6c3fd",
        "colab": {
          "base_uri": "https://localhost:8080/"
        }
      },
      "execution_count": 65,
      "outputs": [
        {
          "output_type": "execute_result",
          "data": {
            "text/plain": [
              "((1, 3, None), 2, ((None, 3, 4), 5, (6, 7, 8)))"
            ]
          },
          "metadata": {},
          "execution_count": 65
        }
      ]
    }
  ]
}